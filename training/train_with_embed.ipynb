{
 "cells": [
  {
   "cell_type": "code",
   "execution_count": 1,
   "id": "5d7bf4da",
   "metadata": {},
   "outputs": [],
   "source": [
    "import pandas as pd"
   ]
  },
  {
   "cell_type": "code",
   "execution_count": 2,
   "id": "0a5a28dc",
   "metadata": {},
   "outputs": [
    {
     "data": {
      "application/vnd.microsoft.datawrangler.viewer.v0+json": {
       "columns": [
        {
         "name": "index",
         "rawType": "int64",
         "type": "integer"
        },
        {
         "name": "job_id",
         "rawType": "int64",
         "type": "integer"
        },
        {
         "name": "title",
         "rawType": "object",
         "type": "string"
        },
        {
         "name": "location",
         "rawType": "object",
         "type": "string"
        },
        {
         "name": "department",
         "rawType": "object",
         "type": "unknown"
        },
        {
         "name": "salary_range",
         "rawType": "object",
         "type": "unknown"
        },
        {
         "name": "company_profile",
         "rawType": "object",
         "type": "unknown"
        },
        {
         "name": "description",
         "rawType": "object",
         "type": "string"
        },
        {
         "name": "requirements",
         "rawType": "object",
         "type": "string"
        },
        {
         "name": "benefits",
         "rawType": "object",
         "type": "string"
        },
        {
         "name": "telecommuting",
         "rawType": "int64",
         "type": "integer"
        },
        {
         "name": "has_company_logo",
         "rawType": "int64",
         "type": "integer"
        },
        {
         "name": "has_questions",
         "rawType": "int64",
         "type": "integer"
        },
        {
         "name": "employment_type",
         "rawType": "object",
         "type": "string"
        },
        {
         "name": "required_experience",
         "rawType": "object",
         "type": "string"
        },
        {
         "name": "required_education",
         "rawType": "object",
         "type": "string"
        },
        {
         "name": "industry",
         "rawType": "object",
         "type": "string"
        },
        {
         "name": "function",
         "rawType": "object",
         "type": "string"
        },
        {
         "name": "fraudulent",
         "rawType": "int64",
         "type": "integer"
        }
       ],
       "conversionMethod": "pd.DataFrame",
       "ref": "f8a58594-214a-4968-af3c-778c6b217731",
       "rows": [
        [
         "0",
         "1422",
         "Maintenance Technician",
         "US, VA, Virginia Beach",
         null,
         null,
         "Tidewater Finance Co. was established in 1992 for the initial purpose of purchasing, and servicing retail installment contracts. There are two divisions: Tidewater Credit Services, providing indirect consumer retail finance options and Tidewater Motor Credit, providing indirect consumer auto financing. We remain committed to offering a partnership with the dealers and consumers to create a WIN-WIN-WIN situation. Our success relies solely on the success of our dealers and our consumers.Full time positions include the following benefits:40 vacation hours after 6 months of employment, 80 vacation hours after 1 year of employment6 paid holidays as well as an anniversary holiday benefitPaid personal and sick leave after 90 days of employmentFull benefits to include health, dental, life and disability insuranceA 401k plan with a company match after 6 months of employment based upon a quarterly entry dateIncentive bonuses for individual and team goals (certain positions)Bilingual Spanish eligible for differential pay",
         "Tidewater Finance Company, located in Virginia Beach, VA has overnight full-time positions available for Maintenance Technicians. Qualified candidates should possess the following characteristics including, but not limited to: Minimum of 2 years of maintenance and janitorial experienceKnowledge of standard methods and practices of janitorial servicesUnderstanding of occupational hazards and safety rules to include proper use of chemicals and pesticidesAbility to operate and use janitorial tools, equipment  and supplies such as floor buffers, vacuum cleaners and cleaning compounds and solutions The duties for this position could include, but are not limited to: Clean and service restroomsSweep, vacuum and mop floors; scrub, strip, sanitize, wax and buff floors using powered machinesInspect doors, windows and locks to ensure they are properly and securely fastened and report all security vulnerabilitiesPerform a variety of maintenance activities to include; carpentry, painting, drywall and carpet and tile layingObserve appearance and condition of premises and equipment; report needed repairs, safety hazards or conditions requiring outside vendor servicesDust such items as blinds, furniture, file cabinets and windowsillsPolish furniture, metal work and chrome using appropriate cleaning productsRepair a variety of furniture and building system components for the purpose of ensuring they remain in a safe operating conditionMaintain an inventory of cleaning and toiletry suppliesReplace light bulbs and ballastsGeneral knowledge of electrical and plumbing The hours for this position are 9:00 pm to 6:00 am Monday through Friday. We offer a competitive salary based on experience and a comprehensive benefits package. If you are interested in working for a dynamic and collaborative financial services company, then Tidewater Finance Company is the place for you! Please submit your resume and salary requirements to Tidewater Finance Company, 6520 Indian River Road, Virginia Beach, VA 23464, Attn: Human Resources Department. If you choose to fax or email your resume, our fax number is (757) 424-9651 and our email address is #EMAIL_169ac3804e2da6e0514e5ef76c29f157f41d80451b486889d9aa#PHONE_4dbd33c1dede3cec472e02df8f201e27aa330a9a201578720111c840de9d8117##nt�Te1�q� �C� -ascii-font-family: Calibri;mso-ascii-theme-font:minor-latin;mso-fareast-font-family:\"Times New Roman\"; mso-hansi-font-family:Calibri;mso-hansi-theme-font:minor-latin;mso-bidi-font-family: Calibri;mso-bidi-theme-font:minor-latin;mso-ansi-language:EN'&gt;Plan, design and implement an overall risk management process for the organizationEstablish key risk indicators, as well as implement corrective action plans to mitigate risksAnalyze transactions, internal reports and financial information for potential fraud risksCreate policies, procedures and control assessments in response to identified risksEvaluate the effectiveness of TFC’s internal control frameworkPrepare and analyze reports detailing the degree of risk involved in extending creditGenerate financial ratios, using computer programs, to evaluate customers' financial statusConsult with customers to verify financial and credit transactionsCompare liquidity, profitability and credit profiles with similar profiles and geographic locationsAnalyze financial data such as income growth, quality of management, and market share to determine expected profitability of loansWe offer a competitive salary based on experience and a comprehensive benefits package. If you are interested in working for a dynamic and collaborative financial services company, then Tidewater Finance Company is the place for you!Please submit your resume and salary requirements to Tidewater Finance Company, 6520 Indian River Road, Virginia Beach, VA 23464, Attn: Human Resources Department. If you choose to fax or email your resume, our fax number is (757) 424-9651 and our email address is #EMAIL_169ac3804e2da6e0514e5ef76c29f157f41d80451b486889d9aa#PHONE_4dbd33c1dede3cec472e02df8f201e27aa330a9a201578720111c840de9d8117## Tidewater Finance Company is an equal opportunity employer in all aspects of employment without regard to race, age, sex, marital status, religion, disability, military status or any other characteristic or status protected by law.  Tidewater Finance Company includes Tidewater Motor Credit and Tidewater Credit Services.",
         "Qualified candidates should possess the following characteristics including, but not limited to: Minimum of 2 years of maintenance and janitorial experienceKnowledge of standard methods and practices of janitorial servicesUnderstanding of occupational hazards and safety rules to include proper use of chemicals and pesticidesAbility to operate and use janitorial tools, equipment  and supplies such as floor buffers, vacuum cleaners and cleaning compounds and solutions",
         "Our company offers a competitive salary plus BONUSES as well as a comprehensive benefits package to our full-time employees including:40 vacation hours after 6 months of employment, 80 vacation hours after 1 year of employment6 paid holidays as well as an anniversary holiday benefitPaid personal and sick leave after 90 days of employmentHealth, dental, life, and disability insurance as well as AFLAC supplemental insuranceA 401K plan with a company match after six months of employment, however, we have quarterly enrollment periods.",
         "0",
         "1",
         "1",
         "Full-time",
         "Not Applicable",
         "Unspecified",
         "Financial Services",
         "Other",
         "0"
        ],
        [
         "1",
         "9848",
         "Software Engineer | Forecasting & Optimization",
         "US, CA, San Mateo",
         "Engineering",
         null,
         "#URL_ddb080358fa5eecf5a67c649cfb4ffc343c484389f1bbaf2a1cb071e3f2b6e7e# and Aptitude Staffing Solutions have partnered up in an effort to streamline the hiring process and provide a more efficient and effective recruitng model.  Our focus is to help develop and achieve your career goals while makeing a solid geographical, cultural and professional fiit when leveraging your career into your new and exciting professional venture!Please direct all communications throughout this process to the HR department at Aptitude Staffing Solutions#EMAIL_0c020555b4dbc1c1e03d03c46cc181bcfde81bf5b20fea95d1bc7dc64c79814c#Darren Lawson | VP of Recruiting | #EMAIL_f4da338e899ddba983ac771b001681d1d2d93b3327ddc420a15f4e5a310071a9# | #PHONE_90d33c9d7ec1484aebfe37b153d677decc6f5f53b316489ed24061544c04eb66#",
         "Software Engineer | Forecasting + Optimization | San Mateo, CALooking for a smart engineers to work on our next-generation data mining and forecasting platform. The role involves working with business analysts and research scientists  to build innovative forecasting and optimization solutions for online advertising; building models and algorithms to solve challenging problems such as estimating the click-through-rate of ads, estimating the cost of ad impressions, estimating the supply of different types of impressions, classifying web pages and web sites, improving online auctions, and so forth; and processing terabytes of data to extract insights using data mining, statistics, and machine learning techniques.Responsibilities:Work closely with Research scientist in building predictive models based on millions of ad transactions.Deploy statistical methods for finding structure in large data sets Design A/B tests to determine effectiveness of various strategies. Define complex SQL and other data extraction schemes to gather and filter needed data.Mining large (terabyte scale) data sets to obtain actionable business insights or to explain business patternsDevelop, train, educate others in Statistical Sciences and other technical disciplines in research and business on the use of data mining methods and tools.",
         "Desired Skills &amp; Experience:BS in Computer Science, Mathematics, Statistics, or related field Deep and broad knowledge of data mining methods and tools Able to reduce problem to mathematical/statistical questions/hypotheses that can be answered through data miningStrong ability in data modeling by using machine learning techniquesDatabase experience required Strong programming skills Teamwork and leadership skills Self-management skills with a focus on results for timely and accurate completion of competing deliverablesPrior experience in advertising industry is a plus",
         "Our core values drive our culture. This is what we believe: Why #URL_ddb080358fa5eecf5a67c649cfb4ffc343c484389f1bbaf2a1cb071e3f2b6e7e#? Watch our culture video to learn more.MAKE OUR CUSTOMERS SUCCESSFUL Our customers' success is ours. We live to solve their problems, improve their futures, and exceed their expectations. When our customers win, we win.SET THE BAR HIGH. We're trying to revolutionize an industry, so we can't be just good—we have to be the best. That means striving for the best team, product, and company on the planet.BE ACCOUNTABLE. We own our work. We keep our promises. And we always follow through. We take responsibility for failures, and humble bows for successes. There's no time for excuses and finger pointing.SHOW INTEGRITY. Forget loopholes, back doors, and shades of gray. We just say it. We are honest and straightforward with everyone. The only way we can bring clarity to a chaotic world is to walk-the-walk ourselves.MAKE EACH OTHER BETTER. Everything we achieve, we achieve together. Nobody is too important to grab a broom.ALWAYS MOVE FORWARD. We see the world as it could be, not just as it is. With our passion for finding new solutions to old problems, we're creating that new world. It's a future worth adapting to.The Benefits Generous paid time off to help you maintain a good work-life balanceFully catered lunches available everyday to all employees at the corporate officeOffices fully stocked with snacks and refreshments to keep you energized and productiveExtensive employee benefits and perks to show how much we value your effortsFun team events, company events, employee sponsored events, employee recognition awards, and more!                                                          ",
         "0",
         "1",
         "1",
         "Full-time",
         "Mid-Senior level",
         "Bachelor's Degree",
         "Marketing and Advertising",
         "Engineering",
         "1"
        ],
        [
         "2",
         "8711",
         "Applications Administrator",
         "GR, I, Athens",
         "Operations",
         null,
         "Upstream’s mission is to revolutionise the way companies market to consumers through cutting edge technology. This is an opportunity to collaborate with like-minded people in an environment that embraces individual differences and diversity.We offer a challenging and stimulating environment in which employees have the opportunity to work on a vast range of complex projects at the forefront of technical innovation. We are looking for creative, enthusiastic and open-minded individuals to join our innovative team to help both drive our success and uphold our existing reputation within the marketing technology world.What we believeOur values of integrity, perseverance, innovation and respect are at the heart of our company. Our actions are underpinned by these four values, which have become central to Upstream, providing all of our employees with a clear framework from which to make their decisions.1. Integrity &amp; TrustYou are widely trusted and seen as a direct and truthful individual. You present the unvarnished truth in an appropriate and helpful manner, keeping confidences and admitting mistakes without misrepresenting themselves for personal gain.2. PerseveranceYou pursue work and life with energy, drive and a need to finish; you seldom give up before finishing, especially in the face of resistance or setbacks.3. InnovationYou have good judgement about which creative ideas and suggestions will work and a sense about managing the creative process of others. You have the ability to facilitate effective brainstorming and project how potential ideas may play out in the marketplace.4. RespectYou invest time in peers and demonstrates value and reverence for others when due, encouraging co-workers to express opinions and ideas. You promote equality within the workplace, encouraging praise and recognition from employee to employee as well as from the superiors. Professional Development at UpstreamUpstream offers a variety of resources and a range of opportunities to inspire the best possible performance from our employees. Our vast range of departments and global activities provide a strong platform for career development and professional progression. We boast various methods of progression within the company; whether through an upward advancement within a chosen field, expansion across departments or relocation to another office, creating the opportunity to gain both valuable experience and further insight into the international workings of the business. At Upstream, employees have the opportunity to learn new skills, work across different disciplines and global departments and move into new challenges, all within the same company.",
         "The application administrator is responsible for implementing the campaign’s format of international mobile marketing campaigns utilizing the company’s proprietary platform. He/she works closely with the campaign managers to set up and monitor each campaign, configuring and optimizing both the format and the content while being aware of its performance. This is mostly a technical position, but interest in marketing and game design is preferred. There are many campaigns running simultaneously, so the application administrator has to be able to work under pressure and on many projects in parallel, meeting tight deadlines while being flexible.The position will be based in Athens.Key Accountabilities●      Configuring Upstream’s proprietary platform for each campaign according to campaign specifications●      Collaborating with all relevant teams by discussing client requirements of the campaign and documenting the UX Cases for each project●      Participating in the optimization of the campaign’s modules, fine-tuning and providing clear insights on the platform’s capabilities, from the design phase to completion●      Compile and execute QA test cases●      Monitoring live campaigns to ensure the desired user experience is provided●      Contributing to the infrastructure upgrade efforts providing proposals/feedback on automation mechanisms, tools and procedures●      Working on several campaigns in parallel, under pressure and tight deadlines – while being flexible when required",
         "Knowledge, Skills and Experience●      Very good educational background, preferably in the fields of information technology, computer science or related field●      1-2 years relevant work experience●      Excellent command of English language●      Advanced knowledge of MS Excel●      Experience working with online content management tools●      Basic SQL knowledge●      Knowledge of basic programming concepts Personal Characteristics ●      Passion for product quality and positive user experience●      Attention to detail and strong sense of responsibility●      Quick learner●      Eagerness to investigate and solve problems●      Characterized by productivity, creativity and organization skills●      Ability to work effectively with many different work groups (Development, Creative, Account management, Project Management etc.)",
         "Includes attractive competitive base salary and benefits, working closely with a highly motivated team in a dynamic and fast paced environment that provides the opportunity for rapid career development.",
         "0",
         "1",
         "0",
         "Full-time",
         "Entry level",
         "Bachelor's Degree",
         "Telecommunications",
         "Information Technology",
         "0"
        ],
        [
         "3",
         "3346",
         "customer service representative",
         "US, CA, san jose ",
         "admin",
         "13-20",
         null,
         "What we're looking for:Do you like helping others? Are you a customer service pro? If you answered yes to any of these questions, we want to meet you! As a Customer Service Rep you will train and support actors and casting agents over the phone and through email, and blowing everyone away with your awesomeness. We're looking to add the next A player to our team. CSR must have a good command of skills ranging from customer relations, problem solving, multi-tasking, computer knowledge, phone etiquette, leadership, detailed communication, flexible schedule (willing to work some weekends and nights), follow through and be a team player.",
         "The right candidate will:-   Be upbeat, personable and enthusiastic-   Have excellent computer skills in both Mac and PC platforms-   Bring a -Can Do- attitude to their job responsibilities and take pride in their work -   Be eager and willing to quickly resolve issues as they arise -   Be approachable and communicate with specificity -   Be able to listen and follow instructions -   Be flexible and able to multi-task -   Be neat, tidy and organized-   Be on time; punctuality and dependability are non-negotiable -   Be able to prioritize and follow through on assigned tasks or projects -   Be able to remain cool under pressure -   Not be opposed to -roll their sleeves up- to do whatever it takes to get the job done",
         "Benefit includes: health and welfare coverage, domestic partner coverage, a retirement program, employer contributions towards the Health Care Spending Account, as well as other offerings:Medical,Dental,Vision,Life/AD&amp;DShort Term Disability,Long Term Disability,Flexible Spending Account401(k) with Company match,Travel Assistance Emergency Services,Employee Assistance Program,Employee Referral Program,Patent Award Program,Educational Assistance Program,Paid Time Off,Wellness Program,Additional Voluntary Benefits",
         "0",
         "0",
         "0",
         "Full-time",
         "Entry level",
         "High School or equivalent",
         "Accounting",
         "Customer Service",
         "1"
        ],
        [
         "4",
         "15390",
         "Outside Sales | Design Consultant",
         "US, CA, Sacramento",
         null,
         null,
         null,
         "We are seeking career minded and driven sales professional who knows how to capitalize on our 40 year reputation in the industry. We transform kitchen and bathroom dreams for our customers into reality.  We are a fast growing and forward thinking business and this position is critical to that growth and success. PROFESSIONAL SALES TRAINING!  The company provides professional sales and product training during initiation and ongoing to help ensure your success. Quality sales leads are provided and generally two (2) confirmed consulting appointments are set daily. Legitimate SIX FIGURE annual opportunity!  Responsibilities include:Pursuing sales opportunities directly in our customer's homes.Keeping appointments assigned to you through the leads generation system.Meeting or exceeding sales goals expectations.Completing paperwork as required; completing customer quotations, as well as recording sales performance metrics on company systems.Travel to/from prospect's homes and the office.",
         "You must have Drive, Determination and Desire to succeedAn optimistic, cannot-lose attitude balanced with realityThe ability to work independently in the field with some supervisionExcellent communication and time-management skills are essentialExperience in the construction and remodel industry is helpful, but not requiredPrevious sales experience is helpful, but not necessary",
         "Professional Sales TrainingCar allowance and fuel Medical Benefits Plus more...",
         "0",
         "1",
         "0",
         "Full-time",
         "Not Applicable",
         "High School or equivalent",
         "Building Materials",
         "Sales",
         "0"
        ]
       ],
       "shape": {
        "columns": 18,
        "rows": 5
       }
      },
      "text/html": [
       "<div>\n",
       "<style scoped>\n",
       "    .dataframe tbody tr th:only-of-type {\n",
       "        vertical-align: middle;\n",
       "    }\n",
       "\n",
       "    .dataframe tbody tr th {\n",
       "        vertical-align: top;\n",
       "    }\n",
       "\n",
       "    .dataframe thead th {\n",
       "        text-align: right;\n",
       "    }\n",
       "</style>\n",
       "<table border=\"1\" class=\"dataframe\">\n",
       "  <thead>\n",
       "    <tr style=\"text-align: right;\">\n",
       "      <th></th>\n",
       "      <th>job_id</th>\n",
       "      <th>title</th>\n",
       "      <th>location</th>\n",
       "      <th>department</th>\n",
       "      <th>salary_range</th>\n",
       "      <th>company_profile</th>\n",
       "      <th>description</th>\n",
       "      <th>requirements</th>\n",
       "      <th>benefits</th>\n",
       "      <th>telecommuting</th>\n",
       "      <th>has_company_logo</th>\n",
       "      <th>has_questions</th>\n",
       "      <th>employment_type</th>\n",
       "      <th>required_experience</th>\n",
       "      <th>required_education</th>\n",
       "      <th>industry</th>\n",
       "      <th>function</th>\n",
       "      <th>fraudulent</th>\n",
       "    </tr>\n",
       "  </thead>\n",
       "  <tbody>\n",
       "    <tr>\n",
       "      <th>0</th>\n",
       "      <td>1422</td>\n",
       "      <td>Maintenance Technician</td>\n",
       "      <td>US, VA, Virginia Beach</td>\n",
       "      <td>NaN</td>\n",
       "      <td>NaN</td>\n",
       "      <td>Tidewater Finance Co. was established in 1992 ...</td>\n",
       "      <td>Tidewater Finance Company, located in Virginia...</td>\n",
       "      <td>Qualified candidates should possess the follow...</td>\n",
       "      <td>Our company offers a competitive salary plus B...</td>\n",
       "      <td>0</td>\n",
       "      <td>1</td>\n",
       "      <td>1</td>\n",
       "      <td>Full-time</td>\n",
       "      <td>Not Applicable</td>\n",
       "      <td>Unspecified</td>\n",
       "      <td>Financial Services</td>\n",
       "      <td>Other</td>\n",
       "      <td>0</td>\n",
       "    </tr>\n",
       "    <tr>\n",
       "      <th>1</th>\n",
       "      <td>9848</td>\n",
       "      <td>Software Engineer | Forecasting &amp; Optimization</td>\n",
       "      <td>US, CA, San Mateo</td>\n",
       "      <td>Engineering</td>\n",
       "      <td>NaN</td>\n",
       "      <td>#URL_ddb080358fa5eecf5a67c649cfb4ffc343c484389...</td>\n",
       "      <td>Software Engineer | Forecasting + Optimization...</td>\n",
       "      <td>Desired Skills &amp;amp; Experience:BS in Computer...</td>\n",
       "      <td>Our core values drive our culture. This is wha...</td>\n",
       "      <td>0</td>\n",
       "      <td>1</td>\n",
       "      <td>1</td>\n",
       "      <td>Full-time</td>\n",
       "      <td>Mid-Senior level</td>\n",
       "      <td>Bachelor's Degree</td>\n",
       "      <td>Marketing and Advertising</td>\n",
       "      <td>Engineering</td>\n",
       "      <td>1</td>\n",
       "    </tr>\n",
       "    <tr>\n",
       "      <th>2</th>\n",
       "      <td>8711</td>\n",
       "      <td>Applications Administrator</td>\n",
       "      <td>GR, I, Athens</td>\n",
       "      <td>Operations</td>\n",
       "      <td>NaN</td>\n",
       "      <td>Upstream’s mission is to revolutionise the way...</td>\n",
       "      <td>The application administrator is responsible f...</td>\n",
       "      <td>Knowledge, Skills and Experience●      Very go...</td>\n",
       "      <td>Includes attractive competitive base salary an...</td>\n",
       "      <td>0</td>\n",
       "      <td>1</td>\n",
       "      <td>0</td>\n",
       "      <td>Full-time</td>\n",
       "      <td>Entry level</td>\n",
       "      <td>Bachelor's Degree</td>\n",
       "      <td>Telecommunications</td>\n",
       "      <td>Information Technology</td>\n",
       "      <td>0</td>\n",
       "    </tr>\n",
       "    <tr>\n",
       "      <th>3</th>\n",
       "      <td>3346</td>\n",
       "      <td>customer service representative</td>\n",
       "      <td>US, CA, san jose</td>\n",
       "      <td>admin</td>\n",
       "      <td>13-20</td>\n",
       "      <td>NaN</td>\n",
       "      <td>What we're looking for:Do you like helping oth...</td>\n",
       "      <td>The right candidate will:-   Be upbeat, person...</td>\n",
       "      <td>Benefit includes: health and welfare coverage,...</td>\n",
       "      <td>0</td>\n",
       "      <td>0</td>\n",
       "      <td>0</td>\n",
       "      <td>Full-time</td>\n",
       "      <td>Entry level</td>\n",
       "      <td>High School or equivalent</td>\n",
       "      <td>Accounting</td>\n",
       "      <td>Customer Service</td>\n",
       "      <td>1</td>\n",
       "    </tr>\n",
       "    <tr>\n",
       "      <th>4</th>\n",
       "      <td>15390</td>\n",
       "      <td>Outside Sales | Design Consultant</td>\n",
       "      <td>US, CA, Sacramento</td>\n",
       "      <td>NaN</td>\n",
       "      <td>NaN</td>\n",
       "      <td>NaN</td>\n",
       "      <td>We are seeking career minded and driven sales ...</td>\n",
       "      <td>You must have Drive, Determination and Desire ...</td>\n",
       "      <td>Professional Sales TrainingCar allowance and f...</td>\n",
       "      <td>0</td>\n",
       "      <td>1</td>\n",
       "      <td>0</td>\n",
       "      <td>Full-time</td>\n",
       "      <td>Not Applicable</td>\n",
       "      <td>High School or equivalent</td>\n",
       "      <td>Building Materials</td>\n",
       "      <td>Sales</td>\n",
       "      <td>0</td>\n",
       "    </tr>\n",
       "  </tbody>\n",
       "</table>\n",
       "</div>"
      ],
      "text/plain": [
       "   job_id                                           title  \\\n",
       "0    1422                          Maintenance Technician   \n",
       "1    9848  Software Engineer | Forecasting & Optimization   \n",
       "2    8711                      Applications Administrator   \n",
       "3    3346                 customer service representative   \n",
       "4   15390               Outside Sales | Design Consultant   \n",
       "\n",
       "                 location   department salary_range  \\\n",
       "0  US, VA, Virginia Beach          NaN          NaN   \n",
       "1       US, CA, San Mateo  Engineering          NaN   \n",
       "2           GR, I, Athens   Operations          NaN   \n",
       "3       US, CA, san jose         admin        13-20   \n",
       "4      US, CA, Sacramento          NaN          NaN   \n",
       "\n",
       "                                     company_profile  \\\n",
       "0  Tidewater Finance Co. was established in 1992 ...   \n",
       "1  #URL_ddb080358fa5eecf5a67c649cfb4ffc343c484389...   \n",
       "2  Upstream’s mission is to revolutionise the way...   \n",
       "3                                                NaN   \n",
       "4                                                NaN   \n",
       "\n",
       "                                         description  \\\n",
       "0  Tidewater Finance Company, located in Virginia...   \n",
       "1  Software Engineer | Forecasting + Optimization...   \n",
       "2  The application administrator is responsible f...   \n",
       "3  What we're looking for:Do you like helping oth...   \n",
       "4  We are seeking career minded and driven sales ...   \n",
       "\n",
       "                                        requirements  \\\n",
       "0  Qualified candidates should possess the follow...   \n",
       "1  Desired Skills &amp; Experience:BS in Computer...   \n",
       "2  Knowledge, Skills and Experience●      Very go...   \n",
       "3  The right candidate will:-   Be upbeat, person...   \n",
       "4  You must have Drive, Determination and Desire ...   \n",
       "\n",
       "                                            benefits  telecommuting  \\\n",
       "0  Our company offers a competitive salary plus B...              0   \n",
       "1  Our core values drive our culture. This is wha...              0   \n",
       "2  Includes attractive competitive base salary an...              0   \n",
       "3  Benefit includes: health and welfare coverage,...              0   \n",
       "4  Professional Sales TrainingCar allowance and f...              0   \n",
       "\n",
       "   has_company_logo  has_questions employment_type required_experience  \\\n",
       "0                 1              1       Full-time      Not Applicable   \n",
       "1                 1              1       Full-time    Mid-Senior level   \n",
       "2                 1              0       Full-time         Entry level   \n",
       "3                 0              0       Full-time         Entry level   \n",
       "4                 1              0       Full-time      Not Applicable   \n",
       "\n",
       "          required_education                   industry  \\\n",
       "0                Unspecified         Financial Services   \n",
       "1          Bachelor's Degree  Marketing and Advertising   \n",
       "2          Bachelor's Degree         Telecommunications   \n",
       "3  High School or equivalent                 Accounting   \n",
       "4  High School or equivalent         Building Materials   \n",
       "\n",
       "                 function  fraudulent  \n",
       "0                   Other           0  \n",
       "1             Engineering           1  \n",
       "2  Information Technology           0  \n",
       "3        Customer Service           1  \n",
       "4                   Sales           0  "
      ]
     },
     "execution_count": 2,
     "metadata": {},
     "output_type": "execute_result"
    }
   ],
   "source": [
    "df = pd.read_csv('../dataset/job_postings.csv')\n",
    "df.head()"
   ]
  },
  {
   "cell_type": "code",
   "execution_count": 3,
   "id": "513d072c",
   "metadata": {},
   "outputs": [
    {
     "data": {
      "application/vnd.microsoft.datawrangler.viewer.v0+json": {
       "columns": [
        {
         "name": "index",
         "rawType": "int64",
         "type": "integer"
        },
        {
         "name": "title",
         "rawType": "object",
         "type": "string"
        },
        {
         "name": "description",
         "rawType": "object",
         "type": "string"
        },
        {
         "name": "label",
         "rawType": "int64",
         "type": "integer"
        }
       ],
       "conversionMethod": "pd.DataFrame",
       "ref": "0f0c9452-706f-431d-bfab-cbd72306ea89",
       "rows": [
        [
         "0",
         "Maintenance Technician",
         "Tidewater Finance Company, located in Virginia Beach, VA has overnight full-time positions available for Maintenance Technicians. Qualified candidates should possess the following characteristics including, but not limited to: Minimum of 2 years of maintenance and janitorial experienceKnowledge of standard methods and practices of janitorial servicesUnderstanding of occupational hazards and safety rules to include proper use of chemicals and pesticidesAbility to operate and use janitorial tools, equipment  and supplies such as floor buffers, vacuum cleaners and cleaning compounds and solutions The duties for this position could include, but are not limited to: Clean and service restroomsSweep, vacuum and mop floors; scrub, strip, sanitize, wax and buff floors using powered machinesInspect doors, windows and locks to ensure they are properly and securely fastened and report all security vulnerabilitiesPerform a variety of maintenance activities to include; carpentry, painting, drywall and carpet and tile layingObserve appearance and condition of premises and equipment; report needed repairs, safety hazards or conditions requiring outside vendor servicesDust such items as blinds, furniture, file cabinets and windowsillsPolish furniture, metal work and chrome using appropriate cleaning productsRepair a variety of furniture and building system components for the purpose of ensuring they remain in a safe operating conditionMaintain an inventory of cleaning and toiletry suppliesReplace light bulbs and ballastsGeneral knowledge of electrical and plumbing The hours for this position are 9:00 pm to 6:00 am Monday through Friday. We offer a competitive salary based on experience and a comprehensive benefits package. If you are interested in working for a dynamic and collaborative financial services company, then Tidewater Finance Company is the place for you! Please submit your resume and salary requirements to Tidewater Finance Company, 6520 Indian River Road, Virginia Beach, VA 23464, Attn: Human Resources Department. If you choose to fax or email your resume, our fax number is (757) 424-9651 and our email address is #EMAIL_169ac3804e2da6e0514e5ef76c29f157f41d80451b486889d9aa#PHONE_4dbd33c1dede3cec472e02df8f201e27aa330a9a201578720111c840de9d8117##nt�Te1�q� �C� -ascii-font-family: Calibri;mso-ascii-theme-font:minor-latin;mso-fareast-font-family:\"Times New Roman\"; mso-hansi-font-family:Calibri;mso-hansi-theme-font:minor-latin;mso-bidi-font-family: Calibri;mso-bidi-theme-font:minor-latin;mso-ansi-language:EN'&gt;Plan, design and implement an overall risk management process for the organizationEstablish key risk indicators, as well as implement corrective action plans to mitigate risksAnalyze transactions, internal reports and financial information for potential fraud risksCreate policies, procedures and control assessments in response to identified risksEvaluate the effectiveness of TFC’s internal control frameworkPrepare and analyze reports detailing the degree of risk involved in extending creditGenerate financial ratios, using computer programs, to evaluate customers' financial statusConsult with customers to verify financial and credit transactionsCompare liquidity, profitability and credit profiles with similar profiles and geographic locationsAnalyze financial data such as income growth, quality of management, and market share to determine expected profitability of loansWe offer a competitive salary based on experience and a comprehensive benefits package. If you are interested in working for a dynamic and collaborative financial services company, then Tidewater Finance Company is the place for you!Please submit your resume and salary requirements to Tidewater Finance Company, 6520 Indian River Road, Virginia Beach, VA 23464, Attn: Human Resources Department. If you choose to fax or email your resume, our fax number is (757) 424-9651 and our email address is #EMAIL_169ac3804e2da6e0514e5ef76c29f157f41d80451b486889d9aa#PHONE_4dbd33c1dede3cec472e02df8f201e27aa330a9a201578720111c840de9d8117## Tidewater Finance Company is an equal opportunity employer in all aspects of employment without regard to race, age, sex, marital status, religion, disability, military status or any other characteristic or status protected by law.  Tidewater Finance Company includes Tidewater Motor Credit and Tidewater Credit Services.",
         "0"
        ],
        [
         "1",
         "Software Engineer | Forecasting & Optimization",
         "Software Engineer | Forecasting + Optimization | San Mateo, CALooking for a smart engineers to work on our next-generation data mining and forecasting platform. The role involves working with business analysts and research scientists  to build innovative forecasting and optimization solutions for online advertising; building models and algorithms to solve challenging problems such as estimating the click-through-rate of ads, estimating the cost of ad impressions, estimating the supply of different types of impressions, classifying web pages and web sites, improving online auctions, and so forth; and processing terabytes of data to extract insights using data mining, statistics, and machine learning techniques.Responsibilities:Work closely with Research scientist in building predictive models based on millions of ad transactions.Deploy statistical methods for finding structure in large data sets Design A/B tests to determine effectiveness of various strategies. Define complex SQL and other data extraction schemes to gather and filter needed data.Mining large (terabyte scale) data sets to obtain actionable business insights or to explain business patternsDevelop, train, educate others in Statistical Sciences and other technical disciplines in research and business on the use of data mining methods and tools.",
         "1"
        ],
        [
         "2",
         "Applications Administrator",
         "The application administrator is responsible for implementing the campaign’s format of international mobile marketing campaigns utilizing the company’s proprietary platform. He/she works closely with the campaign managers to set up and monitor each campaign, configuring and optimizing both the format and the content while being aware of its performance. This is mostly a technical position, but interest in marketing and game design is preferred. There are many campaigns running simultaneously, so the application administrator has to be able to work under pressure and on many projects in parallel, meeting tight deadlines while being flexible.The position will be based in Athens.Key Accountabilities●      Configuring Upstream’s proprietary platform for each campaign according to campaign specifications●      Collaborating with all relevant teams by discussing client requirements of the campaign and documenting the UX Cases for each project●      Participating in the optimization of the campaign’s modules, fine-tuning and providing clear insights on the platform’s capabilities, from the design phase to completion●      Compile and execute QA test cases●      Monitoring live campaigns to ensure the desired user experience is provided●      Contributing to the infrastructure upgrade efforts providing proposals/feedback on automation mechanisms, tools and procedures●      Working on several campaigns in parallel, under pressure and tight deadlines – while being flexible when required",
         "0"
        ],
        [
         "3",
         "customer service representative",
         "What we're looking for:Do you like helping others? Are you a customer service pro? If you answered yes to any of these questions, we want to meet you! As a Customer Service Rep you will train and support actors and casting agents over the phone and through email, and blowing everyone away with your awesomeness. We're looking to add the next A player to our team. CSR must have a good command of skills ranging from customer relations, problem solving, multi-tasking, computer knowledge, phone etiquette, leadership, detailed communication, flexible schedule (willing to work some weekends and nights), follow through and be a team player.",
         "1"
        ],
        [
         "4",
         "Outside Sales | Design Consultant",
         "We are seeking career minded and driven sales professional who knows how to capitalize on our 40 year reputation in the industry. We transform kitchen and bathroom dreams for our customers into reality.  We are a fast growing and forward thinking business and this position is critical to that growth and success. PROFESSIONAL SALES TRAINING!  The company provides professional sales and product training during initiation and ongoing to help ensure your success. Quality sales leads are provided and generally two (2) confirmed consulting appointments are set daily. Legitimate SIX FIGURE annual opportunity!  Responsibilities include:Pursuing sales opportunities directly in our customer's homes.Keeping appointments assigned to you through the leads generation system.Meeting or exceeding sales goals expectations.Completing paperwork as required; completing customer quotations, as well as recording sales performance metrics on company systems.Travel to/from prospect's homes and the office.",
         "0"
        ],
        [
         "5",
         "Intern Project Developer",
         "We Are Looking for Interns for Project Development. You Will be responsible for gathering and arranging projects for the label and the network, such as meets and greets, building presence using the internet, and constructing pitches, and treatments.",
         "1"
        ],
        [
         "6",
         "Graduates: English Teacher Abroad ",
         "Play with kids, get paid for it :-)Love travel? Jobs in Asia$1500 USD + monthly ($200 Cost of living)Housing providedAirfare ReimbursedExcellent for student loans/credit cardsGabriel Adkins : #URL_ed9094c60184b8a4975333957f05be37e69d3cdb68decc9dd9a4242733cfd7f7##URL_75db76d58f7994c7db24e8998c2fc953ab9a20ea9ac948b217693963f78d2e6b#",
         "0"
        ],
        [
         "7",
         "Financial Analyst ",
         "The Finacial Analyst will be based in our Redmond, WA client location.  The ideal candidate will be an integral part of our talented team, supporting our continued growth.Responsibilities include, but are not limited to:Develop and document process flows that eliminate non-value added steps, improve cross-functional behavior and provide proper controls.Analyze operational data and process to determine improvement opportunities and/or resource constraints, manage and track the flow of timely issue resolution and meet project deliverables.Conduct analysis of data to identify positive and negative trends, recognizing opportunities and recommending/implementing solutions to assure site performance objectives are met.Process owner in the design/development of procurement responsibilities for client and for PBMS site.Maintaining of inventory; creation of purchase requisitions and purchase orders; invoice validation and submission.Review bank records for reconciliation; resolve coding issues and allocate costs.Set up billing, request and review proofs for Novitex equipment invoicing and upload invoices to client.Key participant in monthly region A/R calls; research and provide status on outstanding items; follow up with payees;Handle A/P coding and processing.Work within client systems to add/delete Novitex employees in HR system and create shipping requests.Work with client remote locations in equipment/supply ordering; billing and setting up carrier accounts.Gather data and conduct trend analysis; make recommendations based on results.",
         "0"
        ],
        [
         "8",
         "Customer Service Representative",
         "Experienced, reliable team members are needed for our Customer Service Representative needed! We are currently searching for candidates with previous experience and/or motivated quick learners. These positions require a friendly phone personality, great attention to detail and the ability to work quickly and efficiently. This is a customer contact position that requires patience, a great phone demeanor, excellent verbal and written communications, and reliable work attendance.Key Aspects of Position:Provide extraordinary service to our customers at all times.Work as part of a Customer Service team.Other duties as assigned.",
         "1"
        ],
        [
         "9",
         "Controls Engineer",
         "(We have more than 1500+ Job openings in our website and some of them are relevant to this job. Feel free to search it in the website and apply directly. Just Click the “Apply Now” and you will redirect to our main website where you can search for the other jobs.)Qualifications Required:Bachelor’s degree in Electrical Engineering is required.7 years of experience is required. Customer machine build or systems integrator experience is preferred.Knowledge of NEC, NFPA, ANSI standards, UL/CE specifications, customer specifications, technical and maintenance manuals, and procedure instructions.Ability to read, interpret and develop electrical and fluid schematics, electrical drawings, basic mechanical drawings is required.Excellent verbal and written communication skills are required.Knowledge and experience in one or more CNC controls manufacturers is preferred (Siemens 840D; Fanuc 31i / 32i, Haas). Siemens 840D experience is preferred.Knowledge and experience in one or more industrial controls manufacturers is required (Allen-BradleyExperience with PROFIBUS, Ethernet and/or other communication networks a plus.Ability to interpret instructions furnished in written, oral, diagram, or schedule form.Knowledge of Visual Basic and/or C++ is a plus. Proficient in the use of all Microsoft Office products.Excellent time management skills are required.Travel to customer plant locations to participate in machine installation and startups. Must be an aggressive, pro-active team player who is not afraid to dig for information and function autonomously.Job Responsibilities:Engineer custom controls drawings (Electrical, Pneumatic, Hydraulic, Lubrication). Develop PLC and HMI programs (AB, Siemens, Fanuc and others).Develop CNC machine programs and HMI screens (Fanuc, Siemens, Haas and others).Support commissioning during the build, start-up, installation, and runoff phases of projects.Design and program ladder logic to integrate a CNC machine with various other peripheral equipment, including gauging, material handling, robotics, etc.Develop/write operating and control manuals. Support and provide customer training. Maintain effective communication with other project staff, customers, other departments, and outside suppliersParticipate in project teams, providing input in SOWs, Timelines and Action Items lists.Visit - #URL_ec64af2b4fe2ca316e828f93b0cd098c22f8beba98dcac09d4dd7384b221a5e8#-#URL_2954b76adf23051d4bc35fc729f5a18c5de715ed82dfaee24b3aabbf3874ca57#",
         "0"
        ]
       ],
       "shape": {
        "columns": 3,
        "rows": 10
       }
      },
      "text/html": [
       "<div>\n",
       "<style scoped>\n",
       "    .dataframe tbody tr th:only-of-type {\n",
       "        vertical-align: middle;\n",
       "    }\n",
       "\n",
       "    .dataframe tbody tr th {\n",
       "        vertical-align: top;\n",
       "    }\n",
       "\n",
       "    .dataframe thead th {\n",
       "        text-align: right;\n",
       "    }\n",
       "</style>\n",
       "<table border=\"1\" class=\"dataframe\">\n",
       "  <thead>\n",
       "    <tr style=\"text-align: right;\">\n",
       "      <th></th>\n",
       "      <th>title</th>\n",
       "      <th>description</th>\n",
       "      <th>label</th>\n",
       "    </tr>\n",
       "  </thead>\n",
       "  <tbody>\n",
       "    <tr>\n",
       "      <th>0</th>\n",
       "      <td>Maintenance Technician</td>\n",
       "      <td>Tidewater Finance Company, located in Virginia...</td>\n",
       "      <td>0</td>\n",
       "    </tr>\n",
       "    <tr>\n",
       "      <th>1</th>\n",
       "      <td>Software Engineer | Forecasting &amp; Optimization</td>\n",
       "      <td>Software Engineer | Forecasting + Optimization...</td>\n",
       "      <td>1</td>\n",
       "    </tr>\n",
       "    <tr>\n",
       "      <th>2</th>\n",
       "      <td>Applications Administrator</td>\n",
       "      <td>The application administrator is responsible f...</td>\n",
       "      <td>0</td>\n",
       "    </tr>\n",
       "    <tr>\n",
       "      <th>3</th>\n",
       "      <td>customer service representative</td>\n",
       "      <td>What we're looking for:Do you like helping oth...</td>\n",
       "      <td>1</td>\n",
       "    </tr>\n",
       "    <tr>\n",
       "      <th>4</th>\n",
       "      <td>Outside Sales | Design Consultant</td>\n",
       "      <td>We are seeking career minded and driven sales ...</td>\n",
       "      <td>0</td>\n",
       "    </tr>\n",
       "    <tr>\n",
       "      <th>5</th>\n",
       "      <td>Intern Project Developer</td>\n",
       "      <td>We Are Looking for Interns for Project Develop...</td>\n",
       "      <td>1</td>\n",
       "    </tr>\n",
       "    <tr>\n",
       "      <th>6</th>\n",
       "      <td>Graduates: English Teacher Abroad</td>\n",
       "      <td>Play with kids, get paid for it :-)Love travel...</td>\n",
       "      <td>0</td>\n",
       "    </tr>\n",
       "    <tr>\n",
       "      <th>7</th>\n",
       "      <td>Financial Analyst</td>\n",
       "      <td>The Finacial Analyst will be based in our Redm...</td>\n",
       "      <td>0</td>\n",
       "    </tr>\n",
       "    <tr>\n",
       "      <th>8</th>\n",
       "      <td>Customer Service Representative</td>\n",
       "      <td>Experienced, reliable team members are needed ...</td>\n",
       "      <td>1</td>\n",
       "    </tr>\n",
       "    <tr>\n",
       "      <th>9</th>\n",
       "      <td>Controls Engineer</td>\n",
       "      <td>(We have more than 1500+ Job openings in our w...</td>\n",
       "      <td>0</td>\n",
       "    </tr>\n",
       "  </tbody>\n",
       "</table>\n",
       "</div>"
      ],
      "text/plain": [
       "                                            title  \\\n",
       "0                          Maintenance Technician   \n",
       "1  Software Engineer | Forecasting & Optimization   \n",
       "2                      Applications Administrator   \n",
       "3                 customer service representative   \n",
       "4               Outside Sales | Design Consultant   \n",
       "5                        Intern Project Developer   \n",
       "6              Graduates: English Teacher Abroad    \n",
       "7                              Financial Analyst    \n",
       "8                 Customer Service Representative   \n",
       "9                               Controls Engineer   \n",
       "\n",
       "                                         description  label  \n",
       "0  Tidewater Finance Company, located in Virginia...      0  \n",
       "1  Software Engineer | Forecasting + Optimization...      1  \n",
       "2  The application administrator is responsible f...      0  \n",
       "3  What we're looking for:Do you like helping oth...      1  \n",
       "4  We are seeking career minded and driven sales ...      0  \n",
       "5  We Are Looking for Interns for Project Develop...      1  \n",
       "6  Play with kids, get paid for it :-)Love travel...      0  \n",
       "7  The Finacial Analyst will be based in our Redm...      0  \n",
       "8  Experienced, reliable team members are needed ...      1  \n",
       "9  (We have more than 1500+ Job openings in our w...      0  "
      ]
     },
     "execution_count": 3,
     "metadata": {},
     "output_type": "execute_result"
    }
   ],
   "source": [
    "df_nlp = df[['title', 'description', 'fraudulent']].copy()\n",
    "df_nlp.columns = ['title', 'description', 'label']\n",
    "df_nlp.head(10)"
   ]
  },
  {
   "cell_type": "code",
   "execution_count": 4,
   "id": "72991d89",
   "metadata": {},
   "outputs": [],
   "source": [
    "import re\n",
    "\n",
    "def clean_text(text):\n",
    "    text = str(text)\n",
    "    text = re.sub(r\"http\\S+|www\\S+|https\\S+\", '', text, flags=re.MULTILINE)  # Remove URLs\n",
    "    text = re.sub(r'\\@\\w+|\\#', '', text)  # Remove mentions, hashtags\n",
    "    text = re.sub(r\"[^a-zA-Z0-9\\s]\", '', text)  # Remove special characters\n",
    "    text = text.lower()\n",
    "    return text.strip()"
   ]
  },
  {
   "cell_type": "code",
   "execution_count": 5,
   "id": "87c2bdb9",
   "metadata": {},
   "outputs": [
    {
     "data": {
      "text/plain": [
       "'Tidewater Finance Company, located in Virginia Beach, VA has overnight full-time positions available for Maintenance Technicians.\\xa0Qualified candidates should possess the following characteristics including, but not limited to:\\xa0Minimum of 2 years of maintenance and janitorial experienceKnowledge of standard methods and practices of janitorial servicesUnderstanding of occupational hazards and safety rules to include proper use of chemicals and pesticidesAbility to operate and use janitorial tools, equipment \\xa0and supplies such as floor buffers, vacuum cleaners and cleaning compounds and solutions\\xa0The duties for this position could include, but are not limited to:\\xa0Clean and service restroomsSweep, vacuum and mop floors; scrub, strip, sanitize, wax and buff floors using powered machinesInspect doors, windows and locks to ensure they are properly and securely fastened and report all security vulnerabilitiesPerform a variety of maintenance activities to include; carpentry, painting, drywall and carpet and tile layingObserve appearance and condition of premises and equipment; report needed repairs, safety hazards or conditions requiring outside vendor servicesDust such items as blinds, furniture, file cabinets and windowsillsPolish furniture, metal work and chrome using appropriate cleaning productsRepair a variety of furniture and building system components for the purpose of ensuring they remain in a safe operating conditionMaintain an inventory of cleaning and toiletry suppliesReplace light bulbs and ballastsGeneral knowledge of electrical and plumbing\\xa0The hours for this position are 9:00 pm to 6:00 am Monday through Friday.\\xa0We offer a competitive salary based on experience and a comprehensive benefits package. If you are interested in working for a dynamic and collaborative financial services company, then Tidewater Finance Company is the place for you!\\xa0Please submit your resume and salary requirements to Tidewater Finance Company, 6520 Indian River Road, Virginia Beach, VA 23464, Attn: Human Resources Department. If you choose to fax or email your resume, our fax number is (757) 424-9651 and our email address is #EMAIL_169ac3804e2da6e0514e5ef76c29f157f41d80451b486889d9aa#PHONE_4dbd33c1dede3cec472e02df8f201e27aa330a9a201578720111c840de9d8117##nt�Te1�q� �C� -ascii-font-family: Calibri;mso-ascii-theme-font:minor-latin;mso-fareast-font-family:\"Times New Roman\"; mso-hansi-font-family:Calibri;mso-hansi-theme-font:minor-latin;mso-bidi-font-family: Calibri;mso-bidi-theme-font:minor-latin;mso-ansi-language:EN\\'&gt;Plan, design and implement an overall risk management process for the organizationEstablish key risk indicators, as well as implement corrective action plans to mitigate risksAnalyze transactions, internal reports and financial information for potential fraud risksCreate policies, procedures and control assessments in response to identified risksEvaluate the effectiveness of TFC’s internal control frameworkPrepare and analyze reports detailing the degree of risk involved in extending creditGenerate financial ratios, using computer programs, to evaluate customers\\' financial statusConsult with customers to verify financial and credit transactionsCompare liquidity, profitability and credit profiles with similar profiles and geographic locationsAnalyze financial data such as income growth, quality of management, and market share to determine expected profitability of loansWe offer a competitive salary based on experience and a comprehensive benefits package. If you are interested in working for a dynamic and collaborative financial services company, then Tidewater Finance Company is the place for you!Please submit your resume and salary requirements to Tidewater Finance Company, 6520 Indian River Road, Virginia Beach, VA 23464, Attn: Human Resources Department. If you choose to fax or email your resume, our fax number is (757) 424-9651 and our email address is #EMAIL_169ac3804e2da6e0514e5ef76c29f157f41d80451b486889d9aa#PHONE_4dbd33c1dede3cec472e02df8f201e27aa330a9a201578720111c840de9d8117##\\xa0Tidewater Finance Company is an equal opportunity employer in all aspects of employment without regard to race, age, sex, marital status, religion, disability, military status or any other characteristic or status protected by law.\\xa0 Tidewater Finance Company includes Tidewater Motor Credit and Tidewater Credit Services.'"
      ]
     },
     "execution_count": 5,
     "metadata": {},
     "output_type": "execute_result"
    }
   ],
   "source": [
    "df_nlp['description'][0]"
   ]
  },
  {
   "cell_type": "code",
   "execution_count": 6,
   "id": "866607f5",
   "metadata": {},
   "outputs": [
    {
     "data": {
      "text/plain": [
       "'tidewater finance company located in virginia beach va has overnight fulltime positions available for maintenance technicians\\xa0qualified candidates should possess the following characteristics including but not limited to\\xa0minimum of 2 years of maintenance and janitorial experienceknowledge of standard methods and practices of janitorial servicesunderstanding of occupational hazards and safety rules to include proper use of chemicals and pesticidesability to operate and use janitorial tools equipment \\xa0and supplies such as floor buffers vacuum cleaners and cleaning compounds and solutions\\xa0the duties for this position could include but are not limited to\\xa0clean and service restroomssweep vacuum and mop floors scrub strip sanitize wax and buff floors using powered machinesinspect doors windows and locks to ensure they are properly and securely fastened and report all security vulnerabilitiesperform a variety of maintenance activities to include carpentry painting drywall and carpet and tile layingobserve appearance and condition of premises and equipment report needed repairs safety hazards or conditions requiring outside vendor servicesdust such items as blinds furniture file cabinets and windowsillspolish furniture metal work and chrome using appropriate cleaning productsrepair a variety of furniture and building system components for the purpose of ensuring they remain in a safe operating conditionmaintain an inventory of cleaning and toiletry suppliesreplace light bulbs and ballastsgeneral knowledge of electrical and plumbing\\xa0the hours for this position are 900 pm to 600 am monday through friday\\xa0we offer a competitive salary based on experience and a comprehensive benefits package if you are interested in working for a dynamic and collaborative financial services company then tidewater finance company is the place for you\\xa0please submit your resume and salary requirements to tidewater finance company 6520 indian river road virginia beach va 23464 attn human resources department if you choose to fax or email your resume our fax number is 757 4249651 and our email address is email169ac3804e2da6e0514e5ef76c29f157f41d80451b486889d9aaphone4dbd33c1dede3cec472e02df8f201e27aa330a9a201578720111c840de9d8117ntte1q c asciifontfamily calibrimsoasciithemefontminorlatinmsofareastfontfamilytimes new roman msohansifontfamilycalibrimsohansithemefontminorlatinmsobidifontfamily calibrimsobidithemefontminorlatinmsoansilanguageengtplan design and implement an overall risk management process for the organizationestablish key risk indicators as well as implement corrective action plans to mitigate risksanalyze transactions internal reports and financial information for potential fraud riskscreate policies procedures and control assessments in response to identified risksevaluate the effectiveness of tfcs internal control frameworkprepare and analyze reports detailing the degree of risk involved in extending creditgenerate financial ratios using computer programs to evaluate customers financial statusconsult with customers to verify financial and credit transactionscompare liquidity profitability and credit profiles with similar profiles and geographic locationsanalyze financial data such as income growth quality of management and market share to determine expected profitability of loanswe offer a competitive salary based on experience and a comprehensive benefits package if you are interested in working for a dynamic and collaborative financial services company then tidewater finance company is the place for youplease submit your resume and salary requirements to tidewater finance company 6520 indian river road virginia beach va 23464 attn human resources department if you choose to fax or email your resume our fax number is 757 4249651 and our email address is email169ac3804e2da6e0514e5ef76c29f157f41d80451b486889d9aaphone4dbd33c1dede3cec472e02df8f201e27aa330a9a201578720111c840de9d8117\\xa0tidewater finance company is an equal opportunity employer in all aspects of employment without regard to race age sex marital status religion disability military status or any other characteristic or status protected by law\\xa0 tidewater finance company includes tidewater motor credit and tidewater credit services'"
      ]
     },
     "execution_count": 6,
     "metadata": {},
     "output_type": "execute_result"
    }
   ],
   "source": [
    "df_nlp['description'] = df_nlp['description'].apply(clean_text)\n",
    "df_nlp['title'] = df_nlp['title'].apply(clean_text)\n",
    "df_nlp['description'][0]"
   ]
  },
  {
   "cell_type": "code",
   "execution_count": 7,
   "id": "bb2b7dcf",
   "metadata": {},
   "outputs": [
    {
     "data": {
      "text/plain": [
       "label\n",
       "0    17014\n",
       "1    11342\n",
       "Name: count, dtype: int64"
      ]
     },
     "execution_count": 7,
     "metadata": {},
     "output_type": "execute_result"
    }
   ],
   "source": [
    "df_nlp.label.value_counts()"
   ]
  },
  {
   "cell_type": "code",
   "execution_count": 8,
   "id": "1e9af5eb",
   "metadata": {},
   "outputs": [
    {
     "data": {
      "application/vnd.microsoft.datawrangler.viewer.v0+json": {
       "columns": [
        {
         "name": "index",
         "rawType": "int64",
         "type": "integer"
        },
        {
         "name": "text",
         "rawType": "object",
         "type": "string"
        },
        {
         "name": "label",
         "rawType": "int64",
         "type": "integer"
        }
       ],
       "conversionMethod": "pd.DataFrame",
       "ref": "bd2a0700-61b8-48d6-93c9-e2af23819c7d",
       "rows": [
        [
         "0",
         "maintenance technician tidewater finance company located in virginia beach va has overnight fulltime positions available for maintenance technicians qualified candidates should possess the following characteristics including but not limited to minimum of 2 years of maintenance and janitorial experienceknowledge of standard methods and practices of janitorial servicesunderstanding of occupational hazards and safety rules to include proper use of chemicals and pesticidesability to operate and use janitorial tools equipment  and supplies such as floor buffers vacuum cleaners and cleaning compounds and solutions the duties for this position could include but are not limited to clean and service restroomssweep vacuum and mop floors scrub strip sanitize wax and buff floors using powered machinesinspect doors windows and locks to ensure they are properly and securely fastened and report all security vulnerabilitiesperform a variety of maintenance activities to include carpentry painting drywall and carpet and tile layingobserve appearance and condition of premises and equipment report needed repairs safety hazards or conditions requiring outside vendor servicesdust such items as blinds furniture file cabinets and windowsillspolish furniture metal work and chrome using appropriate cleaning productsrepair a variety of furniture and building system components for the purpose of ensuring they remain in a safe operating conditionmaintain an inventory of cleaning and toiletry suppliesreplace light bulbs and ballastsgeneral knowledge of electrical and plumbing the hours for this position are 900 pm to 600 am monday through friday we offer a competitive salary based on experience and a comprehensive benefits package if you are interested in working for a dynamic and collaborative financial services company then tidewater finance company is the place for you please submit your resume and salary requirements to tidewater finance company 6520 indian river road virginia beach va 23464 attn human resources department if you choose to fax or email your resume our fax number is 757 4249651 and our email address is email169ac3804e2da6e0514e5ef76c29f157f41d80451b486889d9aaphone4dbd33c1dede3cec472e02df8f201e27aa330a9a201578720111c840de9d8117ntte1q c asciifontfamily calibrimsoasciithemefontminorlatinmsofareastfontfamilytimes new roman msohansifontfamilycalibrimsohansithemefontminorlatinmsobidifontfamily calibrimsobidithemefontminorlatinmsoansilanguageengtplan design and implement an overall risk management process for the organizationestablish key risk indicators as well as implement corrective action plans to mitigate risksanalyze transactions internal reports and financial information for potential fraud riskscreate policies procedures and control assessments in response to identified risksevaluate the effectiveness of tfcs internal control frameworkprepare and analyze reports detailing the degree of risk involved in extending creditgenerate financial ratios using computer programs to evaluate customers financial statusconsult with customers to verify financial and credit transactionscompare liquidity profitability and credit profiles with similar profiles and geographic locationsanalyze financial data such as income growth quality of management and market share to determine expected profitability of loanswe offer a competitive salary based on experience and a comprehensive benefits package if you are interested in working for a dynamic and collaborative financial services company then tidewater finance company is the place for youplease submit your resume and salary requirements to tidewater finance company 6520 indian river road virginia beach va 23464 attn human resources department if you choose to fax or email your resume our fax number is 757 4249651 and our email address is email169ac3804e2da6e0514e5ef76c29f157f41d80451b486889d9aaphone4dbd33c1dede3cec472e02df8f201e27aa330a9a201578720111c840de9d8117 tidewater finance company is an equal opportunity employer in all aspects of employment without regard to race age sex marital status religion disability military status or any other characteristic or status protected by law  tidewater finance company includes tidewater motor credit and tidewater credit services",
         "0"
        ],
        [
         "1",
         "software engineer  forecasting  optimization software engineer  forecasting  optimization  san mateo calooking for a smart engineers to work on our nextgeneration data mining and forecasting platform the role involves working with business analysts and research scientists  to build innovative forecasting and optimization solutions for online advertising building models and algorithms to solve challenging problems such as estimating the clickthroughrate of ads estimating the cost of ad impressions estimating the supply of different types of impressions classifying web pages and web sites improving online auctions and so forth and processing terabytes of data to extract insights using data mining statistics and machine learning techniquesresponsibilitieswork closely with research scientist in building predictive models based on millions of ad transactionsdeploy statistical methods for finding structure in large data sets design ab tests to determine effectiveness of various strategies define complex sql and other data extraction schemes to gather and filter needed datamining large terabyte scale data sets to obtain actionable business insights or to explain business patternsdevelop train educate others in statistical sciences and other technical disciplines in research and business on the use of data mining methods and tools",
         "1"
        ],
        [
         "2",
         "applications administrator the application administrator is responsible for implementing the campaigns format of international mobile marketing campaigns utilizing the companys proprietary platform heshe works closely with the campaign managers to set up and monitor each campaign configuring and optimizing both the format and the content while being aware of its performance this is mostly a technical position but interest in marketing and game design is preferred there are many campaigns running simultaneously so the application administrator has to be able to work under pressure and on many projects in parallel meeting tight deadlines while being flexiblethe position will be based in athenskey accountabilities      configuring upstreams proprietary platform for each campaign according to campaign specifications      collaborating with all relevant teams by discussing client requirements of the campaign and documenting the ux cases for each project      participating in the optimization of the campaigns modules finetuning and providing clear insights on the platforms capabilities from the design phase to completion      compile and execute qa test cases      monitoring live campaigns to ensure the desired user experience is provided      contributing to the infrastructure upgrade efforts providing proposalsfeedback on automation mechanisms tools and procedures      working on several campaigns in parallel under pressure and tight deadlines  while being flexible when required",
         "0"
        ],
        [
         "3",
         "customer service representative what were looking fordo you like helping others are you a customer service pro if you answered yes to any of these questions we want to meet you as a customer service rep you will train and support actors and casting agents over the phone and through email and blowing everyone away with your awesomeness were looking to add the next a player to our team csr must have a good command of skills ranging from customer relations problem solving multitasking computer knowledge phone etiquette leadership detailed communication flexible schedule willing to work some weekends and nights follow through and be a team player",
         "1"
        ],
        [
         "4",
         "outside sales  design consultant we are seeking career minded and driven sales professional who knows how to capitalize on our 40 year reputation in the industry we transform kitchen and bathroom dreams for our customers into reality  we are a fast growing and forward thinking business and this position is critical to that growth and success professional sales training  the company provides professional sales and product training during initiation and ongoing to help ensure your success quality sales leads are provided and generally two 2 confirmed consulting appointments are set daily legitimate six figure annual opportunity  responsibilities includepursuing sales opportunities directly in our customers homeskeeping appointments assigned to you through the leads generation systemmeeting or exceeding sales goals expectationscompleting paperwork as required completing customer quotations as well as recording sales performance metrics on company systemstravel tofrom prospects homes and the office",
         "0"
        ],
        [
         "5",
         "intern project developer we are looking for interns for project development you will be responsible for gathering and arranging projects for the label and the network such as meets and greets building presence using the internet and constructing pitches and treatments",
         "1"
        ],
        [
         "6",
         "graduates english teacher abroad play with kids get paid for it love travel jobs in asia1500 usd  monthly 200 cost of livinghousing providedairfare reimbursedexcellent for student loanscredit cardsgabriel adkins  urled9094c60184b8a4975333957f05be37e69d3cdb68decc9dd9a4242733cfd7f7url75db76d58f7994c7db24e8998c2fc953ab9a20ea9ac948b217693963f78d2e6b",
         "0"
        ],
        [
         "7",
         "financial analyst the finacial analyst will be based in our redmond wa client location  the ideal candidate will be an integral part of our talented team supporting our continued growthresponsibilities include but are not limited todevelop and document process flows that eliminate nonvalue added steps improve crossfunctional behavior and provide proper controlsanalyze operational data and process to determine improvement opportunities andor resource constraints manage and track the flow of timely issue resolution and meet project deliverablesconduct analysis of data to identify positive and negative trends recognizing opportunities and recommendingimplementing solutions to assure site performance objectives are metprocess owner in the designdevelopment of procurement responsibilities for client and for pbms sitemaintaining of inventory creation of purchase requisitions and purchase orders invoice validation and submissionreview bank records for reconciliation resolve coding issues and allocate costsset up billing request and review proofs for novitex equipment invoicing and upload invoices to clientkey participant in monthly region ar calls research and provide status on outstanding items follow up with payeeshandle ap coding and processingwork within client systems to adddelete novitex employees in hr system and create shipping requestswork with client remote locations in equipmentsupply ordering billing and setting up carrier accountsgather data and conduct trend analysis make recommendations based on results",
         "0"
        ],
        [
         "8",
         "customer service representative experienced reliable team members are needed for our customer service representative needed we are currently searching for candidates with previous experience andor motivated quick learners these positions require a friendly phone personality great attention to detail and the ability to work quickly and efficiently this is a customer contact position that requires patience a great phone demeanor excellent verbal and written communications and reliable work attendancekey aspects of positionprovide extraordinary service to our customers at all timeswork as part of a customer service teamother duties as assigned",
         "1"
        ],
        [
         "9",
         "controls engineer we have more than 1500 job openings in our website and some of them are relevant to this job feel free to search it in the website and apply directly just click the apply now and you will redirect to our main website where you can search for the other jobsqualifications requiredbachelors degree in electrical engineering is required7 years of experience is required customer machine build or systems integrator experience is preferredknowledge of nec nfpa ansi standards ulce specifications customer specifications technical and maintenance manuals and procedure instructionsability to read interpret and develop electrical and fluid schematics electrical drawings basic mechanical drawings is requiredexcellent verbal and written communication skills are requiredknowledge and experience in one or more cnc controls manufacturers is preferred siemens 840d fanuc 31i  32i haas siemens 840d experience is preferredknowledge and experience in one or more industrial controls manufacturers is required allenbradleyexperience with profibus ethernet andor other communication networks a plusability to interpret instructions furnished in written oral diagram or schedule formknowledge of visual basic andor c is a plus proficient in the use of all microsoft office productsexcellent time management skills are requiredtravel to customer plant locations to participate in machine installation and startups must be an aggressive proactive team player who is not afraid to dig for information and function autonomouslyjob responsibilitiesengineer custom controls drawings electrical pneumatic hydraulic lubrication develop plc and hmi programs ab siemens fanuc and othersdevelop cnc machine programs and hmi screens fanuc siemens haas and otherssupport commissioning during the build startup installation and runoff phases of projectsdesign and program ladder logic to integrate a cnc machine with various other peripheral equipment including gauging material handling robotics etcdevelopwrite operating and control manuals support and provide customer training maintain effective communication with other project staff customers other departments and outside suppliersparticipate in project teams providing input in sows timelines and action items listsvisit  urlec64af2b4fe2ca316e828f93b0cd098c22f8beba98dcac09d4dd7384b221a5e8url2954b76adf23051d4bc35fc729f5a18c5de715ed82dfaee24b3aabbf3874ca57",
         "0"
        ]
       ],
       "shape": {
        "columns": 2,
        "rows": 10
       }
      },
      "text/html": [
       "<div>\n",
       "<style scoped>\n",
       "    .dataframe tbody tr th:only-of-type {\n",
       "        vertical-align: middle;\n",
       "    }\n",
       "\n",
       "    .dataframe tbody tr th {\n",
       "        vertical-align: top;\n",
       "    }\n",
       "\n",
       "    .dataframe thead th {\n",
       "        text-align: right;\n",
       "    }\n",
       "</style>\n",
       "<table border=\"1\" class=\"dataframe\">\n",
       "  <thead>\n",
       "    <tr style=\"text-align: right;\">\n",
       "      <th></th>\n",
       "      <th>text</th>\n",
       "      <th>label</th>\n",
       "    </tr>\n",
       "  </thead>\n",
       "  <tbody>\n",
       "    <tr>\n",
       "      <th>0</th>\n",
       "      <td>maintenance technician tidewater finance compa...</td>\n",
       "      <td>0</td>\n",
       "    </tr>\n",
       "    <tr>\n",
       "      <th>1</th>\n",
       "      <td>software engineer  forecasting  optimization s...</td>\n",
       "      <td>1</td>\n",
       "    </tr>\n",
       "    <tr>\n",
       "      <th>2</th>\n",
       "      <td>applications administrator the application adm...</td>\n",
       "      <td>0</td>\n",
       "    </tr>\n",
       "    <tr>\n",
       "      <th>3</th>\n",
       "      <td>customer service representative what were look...</td>\n",
       "      <td>1</td>\n",
       "    </tr>\n",
       "    <tr>\n",
       "      <th>4</th>\n",
       "      <td>outside sales  design consultant we are seekin...</td>\n",
       "      <td>0</td>\n",
       "    </tr>\n",
       "    <tr>\n",
       "      <th>5</th>\n",
       "      <td>intern project developer we are looking for in...</td>\n",
       "      <td>1</td>\n",
       "    </tr>\n",
       "    <tr>\n",
       "      <th>6</th>\n",
       "      <td>graduates english teacher abroad play with kid...</td>\n",
       "      <td>0</td>\n",
       "    </tr>\n",
       "    <tr>\n",
       "      <th>7</th>\n",
       "      <td>financial analyst the finacial analyst will be...</td>\n",
       "      <td>0</td>\n",
       "    </tr>\n",
       "    <tr>\n",
       "      <th>8</th>\n",
       "      <td>customer service representative experienced re...</td>\n",
       "      <td>1</td>\n",
       "    </tr>\n",
       "    <tr>\n",
       "      <th>9</th>\n",
       "      <td>controls engineer we have more than 1500 job o...</td>\n",
       "      <td>0</td>\n",
       "    </tr>\n",
       "  </tbody>\n",
       "</table>\n",
       "</div>"
      ],
      "text/plain": [
       "                                                text  label\n",
       "0  maintenance technician tidewater finance compa...      0\n",
       "1  software engineer  forecasting  optimization s...      1\n",
       "2  applications administrator the application adm...      0\n",
       "3  customer service representative what were look...      1\n",
       "4  outside sales  design consultant we are seekin...      0\n",
       "5  intern project developer we are looking for in...      1\n",
       "6  graduates english teacher abroad play with kid...      0\n",
       "7  financial analyst the finacial analyst will be...      0\n",
       "8  customer service representative experienced re...      1\n",
       "9  controls engineer we have more than 1500 job o...      0"
      ]
     },
     "execution_count": 8,
     "metadata": {},
     "output_type": "execute_result"
    }
   ],
   "source": [
    "df_nlp['text'] = df_nlp['title'] + ' ' + df_nlp['description']\n",
    "df_nlp =df_nlp[['text', 'label']]\n",
    "df_nlp.head(10)"
   ]
  },
  {
   "cell_type": "code",
   "execution_count": 9,
   "id": "62d9acc3",
   "metadata": {},
   "outputs": [],
   "source": [
    "df_nlp.dropna(inplace=True)\n",
    "df_nlp = df_nlp[df_nlp['text'].str.strip() != '']\n",
    "df_nlp.reset_index(drop=True, inplace=True)"
   ]
  },
  {
   "cell_type": "code",
   "execution_count": 10,
   "id": "929738d5",
   "metadata": {},
   "outputs": [
    {
     "data": {
      "application/vnd.microsoft.datawrangler.viewer.v0+json": {
       "columns": [
        {
         "name": "index",
         "rawType": "int64",
         "type": "integer"
        },
        {
         "name": "text",
         "rawType": "object",
         "type": "string"
        },
        {
         "name": "label",
         "rawType": "int64",
         "type": "integer"
        }
       ],
       "conversionMethod": "pd.DataFrame",
       "ref": "28f513e8-24e9-4640-91dc-7aaca7a309d9",
       "rows": [
        [
         "0",
         "maintenance technician tidewater finance company located in virginia beach va has overnight fulltime positions available for maintenance technicians qualified candidates should possess the following characteristics including but not limited to minimum of 2 years of maintenance and janitorial experienceknowledge of standard methods and practices of janitorial servicesunderstanding of occupational hazards and safety rules to include proper use of chemicals and pesticidesability to operate and use janitorial tools equipment  and supplies such as floor buffers vacuum cleaners and cleaning compounds and solutions the duties for this position could include but are not limited to clean and service restroomssweep vacuum and mop floors scrub strip sanitize wax and buff floors using powered machinesinspect doors windows and locks to ensure they are properly and securely fastened and report all security vulnerabilitiesperform a variety of maintenance activities to include carpentry painting drywall and carpet and tile layingobserve appearance and condition of premises and equipment report needed repairs safety hazards or conditions requiring outside vendor servicesdust such items as blinds furniture file cabinets and windowsillspolish furniture metal work and chrome using appropriate cleaning productsrepair a variety of furniture and building system components for the purpose of ensuring they remain in a safe operating conditionmaintain an inventory of cleaning and toiletry suppliesreplace light bulbs and ballastsgeneral knowledge of electrical and plumbing the hours for this position are 900 pm to 600 am monday through friday we offer a competitive salary based on experience and a comprehensive benefits package if you are interested in working for a dynamic and collaborative financial services company then tidewater finance company is the place for you please submit your resume and salary requirements to tidewater finance company 6520 indian river road virginia beach va 23464 attn human resources department if you choose to fax or email your resume our fax number is 757 4249651 and our email address is email169ac3804e2da6e0514e5ef76c29f157f41d80451b486889d9aaphone4dbd33c1dede3cec472e02df8f201e27aa330a9a201578720111c840de9d8117ntte1q c asciifontfamily calibrimsoasciithemefontminorlatinmsofareastfontfamilytimes new roman msohansifontfamilycalibrimsohansithemefontminorlatinmsobidifontfamily calibrimsobidithemefontminorlatinmsoansilanguageengtplan design and implement an overall risk management process for the organizationestablish key risk indicators as well as implement corrective action plans to mitigate risksanalyze transactions internal reports and financial information for potential fraud riskscreate policies procedures and control assessments in response to identified risksevaluate the effectiveness of tfcs internal control frameworkprepare and analyze reports detailing the degree of risk involved in extending creditgenerate financial ratios using computer programs to evaluate customers financial statusconsult with customers to verify financial and credit transactionscompare liquidity profitability and credit profiles with similar profiles and geographic locationsanalyze financial data such as income growth quality of management and market share to determine expected profitability of loanswe offer a competitive salary based on experience and a comprehensive benefits package if you are interested in working for a dynamic and collaborative financial services company then tidewater finance company is the place for youplease submit your resume and salary requirements to tidewater finance company 6520 indian river road virginia beach va 23464 attn human resources department if you choose to fax or email your resume our fax number is 757 4249651 and our email address is email169ac3804e2da6e0514e5ef76c29f157f41d80451b486889d9aaphone4dbd33c1dede3cec472e02df8f201e27aa330a9a201578720111c840de9d8117 tidewater finance company is an equal opportunity employer in all aspects of employment without regard to race age sex marital status religion disability military status or any other characteristic or status protected by law  tidewater finance company includes tidewater motor credit and tidewater credit services",
         "0"
        ],
        [
         "1",
         "software engineer  forecasting  optimization software engineer  forecasting  optimization  san mateo calooking for a smart engineers to work on our nextgeneration data mining and forecasting platform the role involves working with business analysts and research scientists  to build innovative forecasting and optimization solutions for online advertising building models and algorithms to solve challenging problems such as estimating the clickthroughrate of ads estimating the cost of ad impressions estimating the supply of different types of impressions classifying web pages and web sites improving online auctions and so forth and processing terabytes of data to extract insights using data mining statistics and machine learning techniquesresponsibilitieswork closely with research scientist in building predictive models based on millions of ad transactionsdeploy statistical methods for finding structure in large data sets design ab tests to determine effectiveness of various strategies define complex sql and other data extraction schemes to gather and filter needed datamining large terabyte scale data sets to obtain actionable business insights or to explain business patternsdevelop train educate others in statistical sciences and other technical disciplines in research and business on the use of data mining methods and tools",
         "1"
        ],
        [
         "2",
         "applications administrator the application administrator is responsible for implementing the campaigns format of international mobile marketing campaigns utilizing the companys proprietary platform heshe works closely with the campaign managers to set up and monitor each campaign configuring and optimizing both the format and the content while being aware of its performance this is mostly a technical position but interest in marketing and game design is preferred there are many campaigns running simultaneously so the application administrator has to be able to work under pressure and on many projects in parallel meeting tight deadlines while being flexiblethe position will be based in athenskey accountabilities      configuring upstreams proprietary platform for each campaign according to campaign specifications      collaborating with all relevant teams by discussing client requirements of the campaign and documenting the ux cases for each project      participating in the optimization of the campaigns modules finetuning and providing clear insights on the platforms capabilities from the design phase to completion      compile and execute qa test cases      monitoring live campaigns to ensure the desired user experience is provided      contributing to the infrastructure upgrade efforts providing proposalsfeedback on automation mechanisms tools and procedures      working on several campaigns in parallel under pressure and tight deadlines  while being flexible when required",
         "0"
        ],
        [
         "3",
         "customer service representative what were looking fordo you like helping others are you a customer service pro if you answered yes to any of these questions we want to meet you as a customer service rep you will train and support actors and casting agents over the phone and through email and blowing everyone away with your awesomeness were looking to add the next a player to our team csr must have a good command of skills ranging from customer relations problem solving multitasking computer knowledge phone etiquette leadership detailed communication flexible schedule willing to work some weekends and nights follow through and be a team player",
         "1"
        ],
        [
         "4",
         "outside sales  design consultant we are seeking career minded and driven sales professional who knows how to capitalize on our 40 year reputation in the industry we transform kitchen and bathroom dreams for our customers into reality  we are a fast growing and forward thinking business and this position is critical to that growth and success professional sales training  the company provides professional sales and product training during initiation and ongoing to help ensure your success quality sales leads are provided and generally two 2 confirmed consulting appointments are set daily legitimate six figure annual opportunity  responsibilities includepursuing sales opportunities directly in our customers homeskeeping appointments assigned to you through the leads generation systemmeeting or exceeding sales goals expectationscompleting paperwork as required completing customer quotations as well as recording sales performance metrics on company systemstravel tofrom prospects homes and the office",
         "0"
        ],
        [
         "5",
         "intern project developer we are looking for interns for project development you will be responsible for gathering and arranging projects for the label and the network such as meets and greets building presence using the internet and constructing pitches and treatments",
         "1"
        ],
        [
         "6",
         "graduates english teacher abroad play with kids get paid for it love travel jobs in asia1500 usd  monthly 200 cost of livinghousing providedairfare reimbursedexcellent for student loanscredit cardsgabriel adkins  urled9094c60184b8a4975333957f05be37e69d3cdb68decc9dd9a4242733cfd7f7url75db76d58f7994c7db24e8998c2fc953ab9a20ea9ac948b217693963f78d2e6b",
         "0"
        ],
        [
         "7",
         "financial analyst the finacial analyst will be based in our redmond wa client location  the ideal candidate will be an integral part of our talented team supporting our continued growthresponsibilities include but are not limited todevelop and document process flows that eliminate nonvalue added steps improve crossfunctional behavior and provide proper controlsanalyze operational data and process to determine improvement opportunities andor resource constraints manage and track the flow of timely issue resolution and meet project deliverablesconduct analysis of data to identify positive and negative trends recognizing opportunities and recommendingimplementing solutions to assure site performance objectives are metprocess owner in the designdevelopment of procurement responsibilities for client and for pbms sitemaintaining of inventory creation of purchase requisitions and purchase orders invoice validation and submissionreview bank records for reconciliation resolve coding issues and allocate costsset up billing request and review proofs for novitex equipment invoicing and upload invoices to clientkey participant in monthly region ar calls research and provide status on outstanding items follow up with payeeshandle ap coding and processingwork within client systems to adddelete novitex employees in hr system and create shipping requestswork with client remote locations in equipmentsupply ordering billing and setting up carrier accountsgather data and conduct trend analysis make recommendations based on results",
         "0"
        ],
        [
         "8",
         "customer service representative experienced reliable team members are needed for our customer service representative needed we are currently searching for candidates with previous experience andor motivated quick learners these positions require a friendly phone personality great attention to detail and the ability to work quickly and efficiently this is a customer contact position that requires patience a great phone demeanor excellent verbal and written communications and reliable work attendancekey aspects of positionprovide extraordinary service to our customers at all timeswork as part of a customer service teamother duties as assigned",
         "1"
        ],
        [
         "9",
         "controls engineer we have more than 1500 job openings in our website and some of them are relevant to this job feel free to search it in the website and apply directly just click the apply now and you will redirect to our main website where you can search for the other jobsqualifications requiredbachelors degree in electrical engineering is required7 years of experience is required customer machine build or systems integrator experience is preferredknowledge of nec nfpa ansi standards ulce specifications customer specifications technical and maintenance manuals and procedure instructionsability to read interpret and develop electrical and fluid schematics electrical drawings basic mechanical drawings is requiredexcellent verbal and written communication skills are requiredknowledge and experience in one or more cnc controls manufacturers is preferred siemens 840d fanuc 31i  32i haas siemens 840d experience is preferredknowledge and experience in one or more industrial controls manufacturers is required allenbradleyexperience with profibus ethernet andor other communication networks a plusability to interpret instructions furnished in written oral diagram or schedule formknowledge of visual basic andor c is a plus proficient in the use of all microsoft office productsexcellent time management skills are requiredtravel to customer plant locations to participate in machine installation and startups must be an aggressive proactive team player who is not afraid to dig for information and function autonomouslyjob responsibilitiesengineer custom controls drawings electrical pneumatic hydraulic lubrication develop plc and hmi programs ab siemens fanuc and othersdevelop cnc machine programs and hmi screens fanuc siemens haas and otherssupport commissioning during the build startup installation and runoff phases of projectsdesign and program ladder logic to integrate a cnc machine with various other peripheral equipment including gauging material handling robotics etcdevelopwrite operating and control manuals support and provide customer training maintain effective communication with other project staff customers other departments and outside suppliersparticipate in project teams providing input in sows timelines and action items listsvisit  urlec64af2b4fe2ca316e828f93b0cd098c22f8beba98dcac09d4dd7384b221a5e8url2954b76adf23051d4bc35fc729f5a18c5de715ed82dfaee24b3aabbf3874ca57",
         "0"
        ],
        [
         "10",
         "business opportunity ptft available we have the demand we are looking for people that are quick learners and are very efficient to handle the demand we have the best mortgage protection program in the business and we have serious demand nationwide especially in the 703202301 area after all we are in a market where 95 of all americans if they added up all the insurances that they hold would not have enough to cover their mortgage can you imagine a product that everybody needs not just wants and all you have to do is meet with people that have already requested our service no cold calling or door knocking we are looking for someone that is very professional and is able to learn quickly because you cant make six figures in a year by moving slowly we will train you in every aspect of the business and will show you how to personally produce a monthly commission of at least 700010000 we have the tools and we are looking to bring on someone that we can groom into management you will learn this business and eventually we plan to teach you how to build a strong staff that you will train to move product the same way that you do this combination should easily push you into a yearly compensation of 150k within your first 3 years in the business if you move at a steady pace industry experience is not necessary but a track record of success is our company mails out over 15 million letters each week and our homeowners fill out a questionnaire and mail back the request for coverage to us we simply call that exclusive lead and set up an appointment with them we meet the customer in their home and go over what type of mortgage protection the homeowner needs and then write up the policy we also market and promote fixed indexed annuities that solve most of the baby boomers retirement issues we have many full time agents making over 6 and 7 figure incomes we are primarily looking for those that desire to move into management though if you are looking for part time or full time warm sales please send your resume as well we have a serious demand all over the 703202301 area that consistently outweighs our number of agents typically our employees make 30k part time 75100k full time 100k management though we design a specific plan to make sure you hit whatever compensation you seriously desire and are willing to work for what we are looking for  a passion to honestly help families  positive attitude with a strong desire to become wealthy  a person who can follow a step by step selling system what we are not looking for someone who isnt accountable to their word someone who says they are a great salesman but doesnt have a penny to their name someone who has had a recent foreclosure or bankruptcy you cant get licensed in those cases we need you and you need us contact us with your resume preferred or call the hiring manager  with your information for possible interview    compensation 30k part time 75100k full time 100k management",
         "1"
        ],
        [
         "11",
         "church administrator secretary description of the church administrative assistantthe church administrative assistant serves under the direct supervision of the senior pastor to manage all activities of the main church office and perform administrative duties related to the churchs operation this is a full time urlb74a96d67e677fe50326f5185df3e9f22ca81b928c4e286b6d7dccc397d2e7ac for this postion should be of a pentacostal or baptist background and the church is apart of the full gospel church fellowship organization",
         "1"
        ],
        [
         "12",
         "northwestern hospital build a website",
         "1"
        ],
        [
         "13",
         "job opening for sfdc consultant title                        sfdc consultant duration                full time                                                                                                                                                                         location                dubuqueiowa and charlotte nc richmondva",
         "0"
        ],
        [
         "14",
         "payroll clerk we are seeking a full time payroll clerk to manage day to day accounting for our operation pay scale  30hrresponsibilities will include balancing of company accounts processing of weekly payroll processing of company credit cards processing of rebates overall company record keeping",
         "1"
        ],
        [
         "15",
         "agency sales managers 150175000yr we provide no credit check financing to customers of small and medium size businesses and can help 90 of the industries from auto mechanics to dentists and lawyerswe are seeking skilled agency managers to grow with us and help us achieve our goals in this new and exciting industrythis is designed as a longterm position for an entrepreneurial individual to really build their book of business along with their incomeour people enjoy a flexible work environment high earnings with great incentives like corporate retreats and quick advancement opportunities",
         "1"
        ],
        [
         "16",
         "m16 9hq warehousing apprenticeship under nas 1624 year olds this is fantastic opportunity for someone wanting to start their career in warehousingduring the first 12 months you will work towards a level 2 warehouse nvq and then be kept on in a permanent positionyou will be working for a distribution company and the role will involve          assisting fork lift truck drivers with order picking         moving pallets using a pump truck         wrapping pallets         counting stock received         palletising stock         preparing pallets for despatch         unloading cartons from containers      general house keepingwe are looking for enthusiastic dedicated individuals to join our warehouse team ideal candidates will be interested in working in a warehouse and eager to learn new skills to develop within this sectorif you are honest and hard working send your cv to email0e92123d11734167533acc44a2e74ffac0b6f56d256225a89769e0641a3d1aee",
         "0"
        ],
        [
         "17",
         "healthcare assistant health care assistants required for the wandsworth borough must be 18 the post involves supporting individuals to live as independently as possible in their own homes while experience is preferred enthusiasm and a real interest in caring for people is essential duties include assisting with personal care domestic work shopping and assisting in any other tasks in daily living applicants must be able to work a range of shifts which should include some weekends and evenings part time shifts are also available initial and on going training is provided successful applicants are required to supply an enhanced disclosure expense to be met by applicant car driver preferred due to the nature of the work but not essential",
         "0"
        ],
        [
         "18",
         "it developer primarily concerned with support ipad devices for the roll out of  the efb devicesmaintaining a good working knowledge of the efb systems hardware operating system and installed software applicationsensuring that the hardware and software applications are configured in accordance with applicable requirements and that their output complies with regulationsensuring that no unauthorised software is installed on the efb systemmaintenance of the efb policy and procedures manualmanage the update cycles and ensure that the updates are always completed on or before the cutover dateliaise with vendors to ensure any defective items are serviced and returned for operations within the service level agreement sla interval itselfother duties as required",
         "0"
        ],
        [
         "19",
         "advertise for me on ebay   part time start parttime flexible opportunitywe are looking for people who are serious and not just curiousi need someone who can post my ads on ebay",
         "1"
        ]
       ],
       "shape": {
        "columns": 2,
        "rows": 20
       }
      },
      "text/html": [
       "<div>\n",
       "<style scoped>\n",
       "    .dataframe tbody tr th:only-of-type {\n",
       "        vertical-align: middle;\n",
       "    }\n",
       "\n",
       "    .dataframe tbody tr th {\n",
       "        vertical-align: top;\n",
       "    }\n",
       "\n",
       "    .dataframe thead th {\n",
       "        text-align: right;\n",
       "    }\n",
       "</style>\n",
       "<table border=\"1\" class=\"dataframe\">\n",
       "  <thead>\n",
       "    <tr style=\"text-align: right;\">\n",
       "      <th></th>\n",
       "      <th>text</th>\n",
       "      <th>label</th>\n",
       "    </tr>\n",
       "  </thead>\n",
       "  <tbody>\n",
       "    <tr>\n",
       "      <th>0</th>\n",
       "      <td>maintenance technician tidewater finance compa...</td>\n",
       "      <td>0</td>\n",
       "    </tr>\n",
       "    <tr>\n",
       "      <th>1</th>\n",
       "      <td>software engineer  forecasting  optimization s...</td>\n",
       "      <td>1</td>\n",
       "    </tr>\n",
       "    <tr>\n",
       "      <th>2</th>\n",
       "      <td>applications administrator the application adm...</td>\n",
       "      <td>0</td>\n",
       "    </tr>\n",
       "    <tr>\n",
       "      <th>3</th>\n",
       "      <td>customer service representative what were look...</td>\n",
       "      <td>1</td>\n",
       "    </tr>\n",
       "    <tr>\n",
       "      <th>4</th>\n",
       "      <td>outside sales  design consultant we are seekin...</td>\n",
       "      <td>0</td>\n",
       "    </tr>\n",
       "    <tr>\n",
       "      <th>5</th>\n",
       "      <td>intern project developer we are looking for in...</td>\n",
       "      <td>1</td>\n",
       "    </tr>\n",
       "    <tr>\n",
       "      <th>6</th>\n",
       "      <td>graduates english teacher abroad play with kid...</td>\n",
       "      <td>0</td>\n",
       "    </tr>\n",
       "    <tr>\n",
       "      <th>7</th>\n",
       "      <td>financial analyst the finacial analyst will be...</td>\n",
       "      <td>0</td>\n",
       "    </tr>\n",
       "    <tr>\n",
       "      <th>8</th>\n",
       "      <td>customer service representative experienced re...</td>\n",
       "      <td>1</td>\n",
       "    </tr>\n",
       "    <tr>\n",
       "      <th>9</th>\n",
       "      <td>controls engineer we have more than 1500 job o...</td>\n",
       "      <td>0</td>\n",
       "    </tr>\n",
       "    <tr>\n",
       "      <th>10</th>\n",
       "      <td>business opportunity ptft available we have th...</td>\n",
       "      <td>1</td>\n",
       "    </tr>\n",
       "    <tr>\n",
       "      <th>11</th>\n",
       "      <td>church administrator secretary description of ...</td>\n",
       "      <td>1</td>\n",
       "    </tr>\n",
       "    <tr>\n",
       "      <th>12</th>\n",
       "      <td>northwestern hospital build a website</td>\n",
       "      <td>1</td>\n",
       "    </tr>\n",
       "    <tr>\n",
       "      <th>13</th>\n",
       "      <td>job opening for sfdc consultant title         ...</td>\n",
       "      <td>0</td>\n",
       "    </tr>\n",
       "    <tr>\n",
       "      <th>14</th>\n",
       "      <td>payroll clerk we are seeking a full time payro...</td>\n",
       "      <td>1</td>\n",
       "    </tr>\n",
       "    <tr>\n",
       "      <th>15</th>\n",
       "      <td>agency sales managers 150175000yr we provide n...</td>\n",
       "      <td>1</td>\n",
       "    </tr>\n",
       "    <tr>\n",
       "      <th>16</th>\n",
       "      <td>m16 9hq warehousing apprenticeship under nas 1...</td>\n",
       "      <td>0</td>\n",
       "    </tr>\n",
       "    <tr>\n",
       "      <th>17</th>\n",
       "      <td>healthcare assistant health care assistants re...</td>\n",
       "      <td>0</td>\n",
       "    </tr>\n",
       "    <tr>\n",
       "      <th>18</th>\n",
       "      <td>it developer primarily concerned with support ...</td>\n",
       "      <td>0</td>\n",
       "    </tr>\n",
       "    <tr>\n",
       "      <th>19</th>\n",
       "      <td>advertise for me on ebay   part time start par...</td>\n",
       "      <td>1</td>\n",
       "    </tr>\n",
       "  </tbody>\n",
       "</table>\n",
       "</div>"
      ],
      "text/plain": [
       "                                                 text  label\n",
       "0   maintenance technician tidewater finance compa...      0\n",
       "1   software engineer  forecasting  optimization s...      1\n",
       "2   applications administrator the application adm...      0\n",
       "3   customer service representative what were look...      1\n",
       "4   outside sales  design consultant we are seekin...      0\n",
       "5   intern project developer we are looking for in...      1\n",
       "6   graduates english teacher abroad play with kid...      0\n",
       "7   financial analyst the finacial analyst will be...      0\n",
       "8   customer service representative experienced re...      1\n",
       "9   controls engineer we have more than 1500 job o...      0\n",
       "10  business opportunity ptft available we have th...      1\n",
       "11  church administrator secretary description of ...      1\n",
       "12              northwestern hospital build a website      1\n",
       "13  job opening for sfdc consultant title         ...      0\n",
       "14  payroll clerk we are seeking a full time payro...      1\n",
       "15  agency sales managers 150175000yr we provide n...      1\n",
       "16  m16 9hq warehousing apprenticeship under nas 1...      0\n",
       "17  healthcare assistant health care assistants re...      0\n",
       "18  it developer primarily concerned with support ...      0\n",
       "19  advertise for me on ebay   part time start par...      1"
      ]
     },
     "execution_count": 10,
     "metadata": {},
     "output_type": "execute_result"
    }
   ],
   "source": [
    "df_nlp.head(20)"
   ]
  },
  {
   "cell_type": "code",
   "execution_count": 11,
   "id": "46107c1b",
   "metadata": {},
   "outputs": [
    {
     "name": "stderr",
     "output_type": "stream",
     "text": [
      "c:\\Users\\91763\\Documents\\fake-job-classfier\\venv\\lib\\site-packages\\tqdm\\auto.py:21: TqdmWarning: IProgress not found. Please update jupyter and ipywidgets. See https://ipywidgets.readthedocs.io/en/stable/user_install.html\n",
      "  from .autonotebook import tqdm as notebook_tqdm\n"
     ]
    }
   ],
   "source": [
    "from sentence_transformers import SentenceTransformer\n",
    "from sklearn.linear_model import LogisticRegression\n",
    "from sklearn.model_selection import train_test_split\n",
    "from sklearn.metrics import classification_report, confusion_matrix\n",
    "import matplotlib.pyplot as plt\n",
    "import seaborn as sns\n",
    "import joblib"
   ]
  },
  {
   "cell_type": "code",
   "execution_count": 12,
   "id": "7d60b209",
   "metadata": {},
   "outputs": [],
   "source": [
    "embedder = SentenceTransformer('all-MiniLM-L6-v2')"
   ]
  },
  {
   "cell_type": "code",
   "execution_count": 13,
   "id": "f6d92a28",
   "metadata": {},
   "outputs": [],
   "source": [
    "X = df_nlp['text'].tolist()\n",
    "y = df_nlp['label'].tolist()"
   ]
  },
  {
   "cell_type": "code",
   "execution_count": 14,
   "id": "7816a9a2",
   "metadata": {},
   "outputs": [
    {
     "name": "stderr",
     "output_type": "stream",
     "text": [
      "Batches: 100%|██████████| 887/887 [12:21<00:00,  1.20it/s]\n"
     ]
    }
   ],
   "source": [
    "X_embeddings = embedder.encode(X, show_progress_bar=True)"
   ]
  },
  {
   "cell_type": "code",
   "execution_count": 16,
   "id": "459a0cdd",
   "metadata": {},
   "outputs": [
    {
     "data": {
      "application/vnd.microsoft.datawrangler.viewer.v0+json": {
       "columns": [
        {
         "name": "index",
         "rawType": "int64",
         "type": "integer"
        },
        {
         "name": "0",
         "rawType": "float32",
         "type": "float"
        },
        {
         "name": "1",
         "rawType": "float32",
         "type": "float"
        },
        {
         "name": "2",
         "rawType": "float32",
         "type": "float"
        },
        {
         "name": "3",
         "rawType": "float32",
         "type": "float"
        },
        {
         "name": "4",
         "rawType": "float32",
         "type": "float"
        },
        {
         "name": "5",
         "rawType": "float32",
         "type": "float"
        },
        {
         "name": "6",
         "rawType": "float32",
         "type": "float"
        },
        {
         "name": "7",
         "rawType": "float32",
         "type": "float"
        },
        {
         "name": "8",
         "rawType": "float32",
         "type": "float"
        },
        {
         "name": "9",
         "rawType": "float32",
         "type": "float"
        },
        {
         "name": "10",
         "rawType": "float32",
         "type": "float"
        },
        {
         "name": "11",
         "rawType": "float32",
         "type": "float"
        },
        {
         "name": "12",
         "rawType": "float32",
         "type": "float"
        },
        {
         "name": "13",
         "rawType": "float32",
         "type": "float"
        },
        {
         "name": "14",
         "rawType": "float32",
         "type": "float"
        },
        {
         "name": "15",
         "rawType": "float32",
         "type": "float"
        },
        {
         "name": "16",
         "rawType": "float32",
         "type": "float"
        },
        {
         "name": "17",
         "rawType": "float32",
         "type": "float"
        },
        {
         "name": "18",
         "rawType": "float32",
         "type": "float"
        },
        {
         "name": "19",
         "rawType": "float32",
         "type": "float"
        },
        {
         "name": "20",
         "rawType": "float32",
         "type": "float"
        },
        {
         "name": "21",
         "rawType": "float32",
         "type": "float"
        },
        {
         "name": "22",
         "rawType": "float32",
         "type": "float"
        },
        {
         "name": "23",
         "rawType": "float32",
         "type": "float"
        },
        {
         "name": "24",
         "rawType": "float32",
         "type": "float"
        },
        {
         "name": "25",
         "rawType": "float32",
         "type": "float"
        },
        {
         "name": "26",
         "rawType": "float32",
         "type": "float"
        },
        {
         "name": "27",
         "rawType": "float32",
         "type": "float"
        },
        {
         "name": "28",
         "rawType": "float32",
         "type": "float"
        },
        {
         "name": "29",
         "rawType": "float32",
         "type": "float"
        },
        {
         "name": "30",
         "rawType": "float32",
         "type": "float"
        },
        {
         "name": "31",
         "rawType": "float32",
         "type": "float"
        },
        {
         "name": "32",
         "rawType": "float32",
         "type": "float"
        },
        {
         "name": "33",
         "rawType": "float32",
         "type": "float"
        },
        {
         "name": "34",
         "rawType": "float32",
         "type": "float"
        },
        {
         "name": "35",
         "rawType": "float32",
         "type": "float"
        },
        {
         "name": "36",
         "rawType": "float32",
         "type": "float"
        },
        {
         "name": "37",
         "rawType": "float32",
         "type": "float"
        },
        {
         "name": "38",
         "rawType": "float32",
         "type": "float"
        },
        {
         "name": "39",
         "rawType": "float32",
         "type": "float"
        },
        {
         "name": "40",
         "rawType": "float32",
         "type": "float"
        },
        {
         "name": "41",
         "rawType": "float32",
         "type": "float"
        },
        {
         "name": "42",
         "rawType": "float32",
         "type": "float"
        },
        {
         "name": "43",
         "rawType": "float32",
         "type": "float"
        },
        {
         "name": "44",
         "rawType": "float32",
         "type": "float"
        },
        {
         "name": "45",
         "rawType": "float32",
         "type": "float"
        },
        {
         "name": "46",
         "rawType": "float32",
         "type": "float"
        },
        {
         "name": "47",
         "rawType": "float32",
         "type": "float"
        },
        {
         "name": "48",
         "rawType": "float32",
         "type": "float"
        },
        {
         "name": "49",
         "rawType": "float32",
         "type": "float"
        },
        {
         "name": "50",
         "rawType": "float32",
         "type": "float"
        },
        {
         "name": "51",
         "rawType": "float32",
         "type": "float"
        },
        {
         "name": "52",
         "rawType": "float32",
         "type": "float"
        },
        {
         "name": "53",
         "rawType": "float32",
         "type": "float"
        },
        {
         "name": "54",
         "rawType": "float32",
         "type": "float"
        },
        {
         "name": "55",
         "rawType": "float32",
         "type": "float"
        },
        {
         "name": "56",
         "rawType": "float32",
         "type": "float"
        },
        {
         "name": "57",
         "rawType": "float32",
         "type": "float"
        },
        {
         "name": "58",
         "rawType": "float32",
         "type": "float"
        },
        {
         "name": "59",
         "rawType": "float32",
         "type": "float"
        },
        {
         "name": "60",
         "rawType": "float32",
         "type": "float"
        },
        {
         "name": "61",
         "rawType": "float32",
         "type": "float"
        },
        {
         "name": "62",
         "rawType": "float32",
         "type": "float"
        },
        {
         "name": "63",
         "rawType": "float32",
         "type": "float"
        },
        {
         "name": "64",
         "rawType": "float32",
         "type": "float"
        },
        {
         "name": "65",
         "rawType": "float32",
         "type": "float"
        },
        {
         "name": "66",
         "rawType": "float32",
         "type": "float"
        },
        {
         "name": "67",
         "rawType": "float32",
         "type": "float"
        },
        {
         "name": "68",
         "rawType": "float32",
         "type": "float"
        },
        {
         "name": "69",
         "rawType": "float32",
         "type": "float"
        },
        {
         "name": "70",
         "rawType": "float32",
         "type": "float"
        },
        {
         "name": "71",
         "rawType": "float32",
         "type": "float"
        },
        {
         "name": "72",
         "rawType": "float32",
         "type": "float"
        },
        {
         "name": "73",
         "rawType": "float32",
         "type": "float"
        },
        {
         "name": "74",
         "rawType": "float32",
         "type": "float"
        },
        {
         "name": "75",
         "rawType": "float32",
         "type": "float"
        },
        {
         "name": "76",
         "rawType": "float32",
         "type": "float"
        },
        {
         "name": "77",
         "rawType": "float32",
         "type": "float"
        },
        {
         "name": "78",
         "rawType": "float32",
         "type": "float"
        },
        {
         "name": "79",
         "rawType": "float32",
         "type": "float"
        },
        {
         "name": "80",
         "rawType": "float32",
         "type": "float"
        },
        {
         "name": "81",
         "rawType": "float32",
         "type": "float"
        },
        {
         "name": "82",
         "rawType": "float32",
         "type": "float"
        },
        {
         "name": "83",
         "rawType": "float32",
         "type": "float"
        },
        {
         "name": "84",
         "rawType": "float32",
         "type": "float"
        },
        {
         "name": "85",
         "rawType": "float32",
         "type": "float"
        },
        {
         "name": "86",
         "rawType": "float32",
         "type": "float"
        },
        {
         "name": "87",
         "rawType": "float32",
         "type": "float"
        },
        {
         "name": "88",
         "rawType": "float32",
         "type": "float"
        },
        {
         "name": "89",
         "rawType": "float32",
         "type": "float"
        },
        {
         "name": "90",
         "rawType": "float32",
         "type": "float"
        },
        {
         "name": "91",
         "rawType": "float32",
         "type": "float"
        },
        {
         "name": "92",
         "rawType": "float32",
         "type": "float"
        },
        {
         "name": "93",
         "rawType": "float32",
         "type": "float"
        },
        {
         "name": "94",
         "rawType": "float32",
         "type": "float"
        },
        {
         "name": "95",
         "rawType": "float32",
         "type": "float"
        },
        {
         "name": "96",
         "rawType": "float32",
         "type": "float"
        },
        {
         "name": "97",
         "rawType": "float32",
         "type": "float"
        },
        {
         "name": "98",
         "rawType": "float32",
         "type": "float"
        },
        {
         "name": "99",
         "rawType": "float32",
         "type": "float"
        },
        {
         "name": "100",
         "rawType": "float32",
         "type": "float"
        },
        {
         "name": "101",
         "rawType": "float32",
         "type": "float"
        },
        {
         "name": "102",
         "rawType": "float32",
         "type": "float"
        },
        {
         "name": "103",
         "rawType": "float32",
         "type": "float"
        },
        {
         "name": "104",
         "rawType": "float32",
         "type": "float"
        },
        {
         "name": "105",
         "rawType": "float32",
         "type": "float"
        },
        {
         "name": "106",
         "rawType": "float32",
         "type": "float"
        },
        {
         "name": "107",
         "rawType": "float32",
         "type": "float"
        },
        {
         "name": "108",
         "rawType": "float32",
         "type": "float"
        },
        {
         "name": "109",
         "rawType": "float32",
         "type": "float"
        },
        {
         "name": "110",
         "rawType": "float32",
         "type": "float"
        },
        {
         "name": "111",
         "rawType": "float32",
         "type": "float"
        },
        {
         "name": "112",
         "rawType": "float32",
         "type": "float"
        },
        {
         "name": "113",
         "rawType": "float32",
         "type": "float"
        },
        {
         "name": "114",
         "rawType": "float32",
         "type": "float"
        },
        {
         "name": "115",
         "rawType": "float32",
         "type": "float"
        },
        {
         "name": "116",
         "rawType": "float32",
         "type": "float"
        },
        {
         "name": "117",
         "rawType": "float32",
         "type": "float"
        },
        {
         "name": "118",
         "rawType": "float32",
         "type": "float"
        },
        {
         "name": "119",
         "rawType": "float32",
         "type": "float"
        },
        {
         "name": "120",
         "rawType": "float32",
         "type": "float"
        },
        {
         "name": "121",
         "rawType": "float32",
         "type": "float"
        },
        {
         "name": "122",
         "rawType": "float32",
         "type": "float"
        },
        {
         "name": "123",
         "rawType": "float32",
         "type": "float"
        },
        {
         "name": "124",
         "rawType": "float32",
         "type": "float"
        },
        {
         "name": "125",
         "rawType": "float32",
         "type": "float"
        },
        {
         "name": "126",
         "rawType": "float32",
         "type": "float"
        },
        {
         "name": "127",
         "rawType": "float32",
         "type": "float"
        },
        {
         "name": "128",
         "rawType": "float32",
         "type": "float"
        },
        {
         "name": "129",
         "rawType": "float32",
         "type": "float"
        },
        {
         "name": "130",
         "rawType": "float32",
         "type": "float"
        },
        {
         "name": "131",
         "rawType": "float32",
         "type": "float"
        },
        {
         "name": "132",
         "rawType": "float32",
         "type": "float"
        },
        {
         "name": "133",
         "rawType": "float32",
         "type": "float"
        },
        {
         "name": "134",
         "rawType": "float32",
         "type": "float"
        },
        {
         "name": "135",
         "rawType": "float32",
         "type": "float"
        },
        {
         "name": "136",
         "rawType": "float32",
         "type": "float"
        },
        {
         "name": "137",
         "rawType": "float32",
         "type": "float"
        },
        {
         "name": "138",
         "rawType": "float32",
         "type": "float"
        },
        {
         "name": "139",
         "rawType": "float32",
         "type": "float"
        },
        {
         "name": "140",
         "rawType": "float32",
         "type": "float"
        },
        {
         "name": "141",
         "rawType": "float32",
         "type": "float"
        },
        {
         "name": "142",
         "rawType": "float32",
         "type": "float"
        },
        {
         "name": "143",
         "rawType": "float32",
         "type": "float"
        },
        {
         "name": "144",
         "rawType": "float32",
         "type": "float"
        },
        {
         "name": "145",
         "rawType": "float32",
         "type": "float"
        },
        {
         "name": "146",
         "rawType": "float32",
         "type": "float"
        },
        {
         "name": "147",
         "rawType": "float32",
         "type": "float"
        },
        {
         "name": "148",
         "rawType": "float32",
         "type": "float"
        },
        {
         "name": "149",
         "rawType": "float32",
         "type": "float"
        },
        {
         "name": "150",
         "rawType": "float32",
         "type": "float"
        },
        {
         "name": "151",
         "rawType": "float32",
         "type": "float"
        },
        {
         "name": "152",
         "rawType": "float32",
         "type": "float"
        },
        {
         "name": "153",
         "rawType": "float32",
         "type": "float"
        },
        {
         "name": "154",
         "rawType": "float32",
         "type": "float"
        },
        {
         "name": "155",
         "rawType": "float32",
         "type": "float"
        },
        {
         "name": "156",
         "rawType": "float32",
         "type": "float"
        },
        {
         "name": "157",
         "rawType": "float32",
         "type": "float"
        },
        {
         "name": "158",
         "rawType": "float32",
         "type": "float"
        },
        {
         "name": "159",
         "rawType": "float32",
         "type": "float"
        },
        {
         "name": "160",
         "rawType": "float32",
         "type": "float"
        },
        {
         "name": "161",
         "rawType": "float32",
         "type": "float"
        },
        {
         "name": "162",
         "rawType": "float32",
         "type": "float"
        },
        {
         "name": "163",
         "rawType": "float32",
         "type": "float"
        },
        {
         "name": "164",
         "rawType": "float32",
         "type": "float"
        },
        {
         "name": "165",
         "rawType": "float32",
         "type": "float"
        },
        {
         "name": "166",
         "rawType": "float32",
         "type": "float"
        },
        {
         "name": "167",
         "rawType": "float32",
         "type": "float"
        },
        {
         "name": "168",
         "rawType": "float32",
         "type": "float"
        },
        {
         "name": "169",
         "rawType": "float32",
         "type": "float"
        },
        {
         "name": "170",
         "rawType": "float32",
         "type": "float"
        },
        {
         "name": "171",
         "rawType": "float32",
         "type": "float"
        },
        {
         "name": "172",
         "rawType": "float32",
         "type": "float"
        },
        {
         "name": "173",
         "rawType": "float32",
         "type": "float"
        },
        {
         "name": "174",
         "rawType": "float32",
         "type": "float"
        },
        {
         "name": "175",
         "rawType": "float32",
         "type": "float"
        },
        {
         "name": "176",
         "rawType": "float32",
         "type": "float"
        },
        {
         "name": "177",
         "rawType": "float32",
         "type": "float"
        },
        {
         "name": "178",
         "rawType": "float32",
         "type": "float"
        },
        {
         "name": "179",
         "rawType": "float32",
         "type": "float"
        },
        {
         "name": "180",
         "rawType": "float32",
         "type": "float"
        },
        {
         "name": "181",
         "rawType": "float32",
         "type": "float"
        },
        {
         "name": "182",
         "rawType": "float32",
         "type": "float"
        },
        {
         "name": "183",
         "rawType": "float32",
         "type": "float"
        },
        {
         "name": "184",
         "rawType": "float32",
         "type": "float"
        },
        {
         "name": "185",
         "rawType": "float32",
         "type": "float"
        },
        {
         "name": "186",
         "rawType": "float32",
         "type": "float"
        },
        {
         "name": "187",
         "rawType": "float32",
         "type": "float"
        },
        {
         "name": "188",
         "rawType": "float32",
         "type": "float"
        },
        {
         "name": "189",
         "rawType": "float32",
         "type": "float"
        },
        {
         "name": "190",
         "rawType": "float32",
         "type": "float"
        },
        {
         "name": "191",
         "rawType": "float32",
         "type": "float"
        },
        {
         "name": "192",
         "rawType": "float32",
         "type": "float"
        },
        {
         "name": "193",
         "rawType": "float32",
         "type": "float"
        },
        {
         "name": "194",
         "rawType": "float32",
         "type": "float"
        },
        {
         "name": "195",
         "rawType": "float32",
         "type": "float"
        },
        {
         "name": "196",
         "rawType": "float32",
         "type": "float"
        },
        {
         "name": "197",
         "rawType": "float32",
         "type": "float"
        },
        {
         "name": "198",
         "rawType": "float32",
         "type": "float"
        },
        {
         "name": "199",
         "rawType": "float32",
         "type": "float"
        },
        {
         "name": "200",
         "rawType": "float32",
         "type": "float"
        },
        {
         "name": "201",
         "rawType": "float32",
         "type": "float"
        },
        {
         "name": "202",
         "rawType": "float32",
         "type": "float"
        },
        {
         "name": "203",
         "rawType": "float32",
         "type": "float"
        },
        {
         "name": "204",
         "rawType": "float32",
         "type": "float"
        },
        {
         "name": "205",
         "rawType": "float32",
         "type": "float"
        },
        {
         "name": "206",
         "rawType": "float32",
         "type": "float"
        },
        {
         "name": "207",
         "rawType": "float32",
         "type": "float"
        },
        {
         "name": "208",
         "rawType": "float32",
         "type": "float"
        },
        {
         "name": "209",
         "rawType": "float32",
         "type": "float"
        },
        {
         "name": "210",
         "rawType": "float32",
         "type": "float"
        },
        {
         "name": "211",
         "rawType": "float32",
         "type": "float"
        },
        {
         "name": "212",
         "rawType": "float32",
         "type": "float"
        },
        {
         "name": "213",
         "rawType": "float32",
         "type": "float"
        },
        {
         "name": "214",
         "rawType": "float32",
         "type": "float"
        },
        {
         "name": "215",
         "rawType": "float32",
         "type": "float"
        },
        {
         "name": "216",
         "rawType": "float32",
         "type": "float"
        },
        {
         "name": "217",
         "rawType": "float32",
         "type": "float"
        },
        {
         "name": "218",
         "rawType": "float32",
         "type": "float"
        },
        {
         "name": "219",
         "rawType": "float32",
         "type": "float"
        },
        {
         "name": "220",
         "rawType": "float32",
         "type": "float"
        },
        {
         "name": "221",
         "rawType": "float32",
         "type": "float"
        },
        {
         "name": "222",
         "rawType": "float32",
         "type": "float"
        },
        {
         "name": "223",
         "rawType": "float32",
         "type": "float"
        },
        {
         "name": "224",
         "rawType": "float32",
         "type": "float"
        },
        {
         "name": "225",
         "rawType": "float32",
         "type": "float"
        },
        {
         "name": "226",
         "rawType": "float32",
         "type": "float"
        },
        {
         "name": "227",
         "rawType": "float32",
         "type": "float"
        },
        {
         "name": "228",
         "rawType": "float32",
         "type": "float"
        },
        {
         "name": "229",
         "rawType": "float32",
         "type": "float"
        },
        {
         "name": "230",
         "rawType": "float32",
         "type": "float"
        },
        {
         "name": "231",
         "rawType": "float32",
         "type": "float"
        },
        {
         "name": "232",
         "rawType": "float32",
         "type": "float"
        },
        {
         "name": "233",
         "rawType": "float32",
         "type": "float"
        },
        {
         "name": "234",
         "rawType": "float32",
         "type": "float"
        },
        {
         "name": "235",
         "rawType": "float32",
         "type": "float"
        },
        {
         "name": "236",
         "rawType": "float32",
         "type": "float"
        },
        {
         "name": "237",
         "rawType": "float32",
         "type": "float"
        },
        {
         "name": "238",
         "rawType": "float32",
         "type": "float"
        },
        {
         "name": "239",
         "rawType": "float32",
         "type": "float"
        },
        {
         "name": "240",
         "rawType": "float32",
         "type": "float"
        },
        {
         "name": "241",
         "rawType": "float32",
         "type": "float"
        },
        {
         "name": "242",
         "rawType": "float32",
         "type": "float"
        },
        {
         "name": "243",
         "rawType": "float32",
         "type": "float"
        },
        {
         "name": "244",
         "rawType": "float32",
         "type": "float"
        },
        {
         "name": "245",
         "rawType": "float32",
         "type": "float"
        },
        {
         "name": "246",
         "rawType": "float32",
         "type": "float"
        },
        {
         "name": "247",
         "rawType": "float32",
         "type": "float"
        },
        {
         "name": "248",
         "rawType": "float32",
         "type": "float"
        },
        {
         "name": "249",
         "rawType": "float32",
         "type": "float"
        },
        {
         "name": "250",
         "rawType": "float32",
         "type": "float"
        },
        {
         "name": "251",
         "rawType": "float32",
         "type": "float"
        },
        {
         "name": "252",
         "rawType": "float32",
         "type": "float"
        },
        {
         "name": "253",
         "rawType": "float32",
         "type": "float"
        },
        {
         "name": "254",
         "rawType": "float32",
         "type": "float"
        },
        {
         "name": "255",
         "rawType": "float32",
         "type": "float"
        },
        {
         "name": "256",
         "rawType": "float32",
         "type": "float"
        },
        {
         "name": "257",
         "rawType": "float32",
         "type": "float"
        },
        {
         "name": "258",
         "rawType": "float32",
         "type": "float"
        },
        {
         "name": "259",
         "rawType": "float32",
         "type": "float"
        },
        {
         "name": "260",
         "rawType": "float32",
         "type": "float"
        },
        {
         "name": "261",
         "rawType": "float32",
         "type": "float"
        },
        {
         "name": "262",
         "rawType": "float32",
         "type": "float"
        },
        {
         "name": "263",
         "rawType": "float32",
         "type": "float"
        },
        {
         "name": "264",
         "rawType": "float32",
         "type": "float"
        },
        {
         "name": "265",
         "rawType": "float32",
         "type": "float"
        },
        {
         "name": "266",
         "rawType": "float32",
         "type": "float"
        },
        {
         "name": "267",
         "rawType": "float32",
         "type": "float"
        },
        {
         "name": "268",
         "rawType": "float32",
         "type": "float"
        },
        {
         "name": "269",
         "rawType": "float32",
         "type": "float"
        },
        {
         "name": "270",
         "rawType": "float32",
         "type": "float"
        },
        {
         "name": "271",
         "rawType": "float32",
         "type": "float"
        },
        {
         "name": "272",
         "rawType": "float32",
         "type": "float"
        },
        {
         "name": "273",
         "rawType": "float32",
         "type": "float"
        },
        {
         "name": "274",
         "rawType": "float32",
         "type": "float"
        },
        {
         "name": "275",
         "rawType": "float32",
         "type": "float"
        },
        {
         "name": "276",
         "rawType": "float32",
         "type": "float"
        },
        {
         "name": "277",
         "rawType": "float32",
         "type": "float"
        },
        {
         "name": "278",
         "rawType": "float32",
         "type": "float"
        },
        {
         "name": "279",
         "rawType": "float32",
         "type": "float"
        },
        {
         "name": "280",
         "rawType": "float32",
         "type": "float"
        },
        {
         "name": "281",
         "rawType": "float32",
         "type": "float"
        },
        {
         "name": "282",
         "rawType": "float32",
         "type": "float"
        },
        {
         "name": "283",
         "rawType": "float32",
         "type": "float"
        },
        {
         "name": "284",
         "rawType": "float32",
         "type": "float"
        },
        {
         "name": "285",
         "rawType": "float32",
         "type": "float"
        },
        {
         "name": "286",
         "rawType": "float32",
         "type": "float"
        },
        {
         "name": "287",
         "rawType": "float32",
         "type": "float"
        },
        {
         "name": "288",
         "rawType": "float32",
         "type": "float"
        },
        {
         "name": "289",
         "rawType": "float32",
         "type": "float"
        },
        {
         "name": "290",
         "rawType": "float32",
         "type": "float"
        },
        {
         "name": "291",
         "rawType": "float32",
         "type": "float"
        },
        {
         "name": "292",
         "rawType": "float32",
         "type": "float"
        },
        {
         "name": "293",
         "rawType": "float32",
         "type": "float"
        },
        {
         "name": "294",
         "rawType": "float32",
         "type": "float"
        },
        {
         "name": "295",
         "rawType": "float32",
         "type": "float"
        },
        {
         "name": "296",
         "rawType": "float32",
         "type": "float"
        },
        {
         "name": "297",
         "rawType": "float32",
         "type": "float"
        },
        {
         "name": "298",
         "rawType": "float32",
         "type": "float"
        },
        {
         "name": "299",
         "rawType": "float32",
         "type": "float"
        },
        {
         "name": "300",
         "rawType": "float32",
         "type": "float"
        },
        {
         "name": "301",
         "rawType": "float32",
         "type": "float"
        },
        {
         "name": "302",
         "rawType": "float32",
         "type": "float"
        },
        {
         "name": "303",
         "rawType": "float32",
         "type": "float"
        },
        {
         "name": "304",
         "rawType": "float32",
         "type": "float"
        },
        {
         "name": "305",
         "rawType": "float32",
         "type": "float"
        },
        {
         "name": "306",
         "rawType": "float32",
         "type": "float"
        },
        {
         "name": "307",
         "rawType": "float32",
         "type": "float"
        },
        {
         "name": "308",
         "rawType": "float32",
         "type": "float"
        },
        {
         "name": "309",
         "rawType": "float32",
         "type": "float"
        },
        {
         "name": "310",
         "rawType": "float32",
         "type": "float"
        },
        {
         "name": "311",
         "rawType": "float32",
         "type": "float"
        },
        {
         "name": "312",
         "rawType": "float32",
         "type": "float"
        },
        {
         "name": "313",
         "rawType": "float32",
         "type": "float"
        },
        {
         "name": "314",
         "rawType": "float32",
         "type": "float"
        },
        {
         "name": "315",
         "rawType": "float32",
         "type": "float"
        },
        {
         "name": "316",
         "rawType": "float32",
         "type": "float"
        },
        {
         "name": "317",
         "rawType": "float32",
         "type": "float"
        },
        {
         "name": "318",
         "rawType": "float32",
         "type": "float"
        },
        {
         "name": "319",
         "rawType": "float32",
         "type": "float"
        },
        {
         "name": "320",
         "rawType": "float32",
         "type": "float"
        },
        {
         "name": "321",
         "rawType": "float32",
         "type": "float"
        },
        {
         "name": "322",
         "rawType": "float32",
         "type": "float"
        },
        {
         "name": "323",
         "rawType": "float32",
         "type": "float"
        },
        {
         "name": "324",
         "rawType": "float32",
         "type": "float"
        },
        {
         "name": "325",
         "rawType": "float32",
         "type": "float"
        },
        {
         "name": "326",
         "rawType": "float32",
         "type": "float"
        },
        {
         "name": "327",
         "rawType": "float32",
         "type": "float"
        },
        {
         "name": "328",
         "rawType": "float32",
         "type": "float"
        },
        {
         "name": "329",
         "rawType": "float32",
         "type": "float"
        },
        {
         "name": "330",
         "rawType": "float32",
         "type": "float"
        },
        {
         "name": "331",
         "rawType": "float32",
         "type": "float"
        },
        {
         "name": "332",
         "rawType": "float32",
         "type": "float"
        },
        {
         "name": "333",
         "rawType": "float32",
         "type": "float"
        },
        {
         "name": "334",
         "rawType": "float32",
         "type": "float"
        },
        {
         "name": "335",
         "rawType": "float32",
         "type": "float"
        },
        {
         "name": "336",
         "rawType": "float32",
         "type": "float"
        },
        {
         "name": "337",
         "rawType": "float32",
         "type": "float"
        },
        {
         "name": "338",
         "rawType": "float32",
         "type": "float"
        },
        {
         "name": "339",
         "rawType": "float32",
         "type": "float"
        },
        {
         "name": "340",
         "rawType": "float32",
         "type": "float"
        },
        {
         "name": "341",
         "rawType": "float32",
         "type": "float"
        },
        {
         "name": "342",
         "rawType": "float32",
         "type": "float"
        },
        {
         "name": "343",
         "rawType": "float32",
         "type": "float"
        },
        {
         "name": "344",
         "rawType": "float32",
         "type": "float"
        },
        {
         "name": "345",
         "rawType": "float32",
         "type": "float"
        },
        {
         "name": "346",
         "rawType": "float32",
         "type": "float"
        },
        {
         "name": "347",
         "rawType": "float32",
         "type": "float"
        },
        {
         "name": "348",
         "rawType": "float32",
         "type": "float"
        },
        {
         "name": "349",
         "rawType": "float32",
         "type": "float"
        },
        {
         "name": "350",
         "rawType": "float32",
         "type": "float"
        },
        {
         "name": "351",
         "rawType": "float32",
         "type": "float"
        },
        {
         "name": "352",
         "rawType": "float32",
         "type": "float"
        },
        {
         "name": "353",
         "rawType": "float32",
         "type": "float"
        },
        {
         "name": "354",
         "rawType": "float32",
         "type": "float"
        },
        {
         "name": "355",
         "rawType": "float32",
         "type": "float"
        },
        {
         "name": "356",
         "rawType": "float32",
         "type": "float"
        },
        {
         "name": "357",
         "rawType": "float32",
         "type": "float"
        },
        {
         "name": "358",
         "rawType": "float32",
         "type": "float"
        },
        {
         "name": "359",
         "rawType": "float32",
         "type": "float"
        },
        {
         "name": "360",
         "rawType": "float32",
         "type": "float"
        },
        {
         "name": "361",
         "rawType": "float32",
         "type": "float"
        },
        {
         "name": "362",
         "rawType": "float32",
         "type": "float"
        },
        {
         "name": "363",
         "rawType": "float32",
         "type": "float"
        },
        {
         "name": "364",
         "rawType": "float32",
         "type": "float"
        },
        {
         "name": "365",
         "rawType": "float32",
         "type": "float"
        },
        {
         "name": "366",
         "rawType": "float32",
         "type": "float"
        },
        {
         "name": "367",
         "rawType": "float32",
         "type": "float"
        },
        {
         "name": "368",
         "rawType": "float32",
         "type": "float"
        },
        {
         "name": "369",
         "rawType": "float32",
         "type": "float"
        },
        {
         "name": "370",
         "rawType": "float32",
         "type": "float"
        },
        {
         "name": "371",
         "rawType": "float32",
         "type": "float"
        },
        {
         "name": "372",
         "rawType": "float32",
         "type": "float"
        },
        {
         "name": "373",
         "rawType": "float32",
         "type": "float"
        },
        {
         "name": "374",
         "rawType": "float32",
         "type": "float"
        },
        {
         "name": "375",
         "rawType": "float32",
         "type": "float"
        },
        {
         "name": "376",
         "rawType": "float32",
         "type": "float"
        },
        {
         "name": "377",
         "rawType": "float32",
         "type": "float"
        },
        {
         "name": "378",
         "rawType": "float32",
         "type": "float"
        },
        {
         "name": "379",
         "rawType": "float32",
         "type": "float"
        },
        {
         "name": "380",
         "rawType": "float32",
         "type": "float"
        },
        {
         "name": "381",
         "rawType": "float32",
         "type": "float"
        },
        {
         "name": "382",
         "rawType": "float32",
         "type": "float"
        },
        {
         "name": "383",
         "rawType": "float32",
         "type": "float"
        }
       ],
       "conversionMethod": "pd.DataFrame",
       "ref": "1ab497aa-ff15-4642-8b9d-2d080bca3305",
       "rows": [
        [
         "0",
         "-0.06328343",
         "0.0032397797",
         "0.06959254",
         "-0.04903922",
         "-0.017033909",
         "0.0053849807",
         "0.008890895",
         "-0.032806914",
         "-0.11346692",
         "-0.031761084",
         "0.021393767",
         "-0.091272675",
         "0.076691546",
         "0.014462757",
         "-0.05850432",
         "0.004378225",
         "0.047947187",
         "0.061433546",
         "-0.050690815",
         "0.016068518",
         "0.015393286",
         "0.028722392",
         "-0.033767246",
         "-0.074174196",
         "-0.13347842",
         "0.047169954",
         "-0.029867733",
         "-0.029537842",
         "-0.0016611358",
         "-0.04248213",
         "0.030679157",
         "0.003175802",
         "0.019396227",
         "-0.030079572",
         "0.07349192",
         "0.03644857",
         "-0.00645476",
         "-0.024227872",
         "-0.010297423",
         "0.03407528",
         "-0.06099515",
         "-0.06092258",
         "-0.030647606",
         "-0.027379707",
         "0.034204055",
         "-0.010843706",
         "0.00744505",
         "-0.08902322",
         "0.066403076",
         "0.034473523",
         "-0.0029037732",
         "0.008343524",
         "0.03894992",
         "0.04273574",
         "-0.05521169",
         "-0.056557044",
         "0.024073208",
         "-0.023574466",
         "-0.010243247",
         "-0.073682606",
         "0.07575712",
         "0.04820297",
         "0.019467395",
         "-0.042798538",
         "0.069116935",
         "0.012694979",
         "-0.09746115",
         "-0.003596325",
         "0.005958214",
         "-0.05687904",
         "-0.15138671",
         "-0.056111395",
         "-0.006502031",
         "0.15274085",
         "0.027544735",
         "-0.019550124",
         "0.029697672",
         "-0.011750348",
         "0.07655191",
         "-0.07299061",
         "-0.030581946",
         "-0.039773542",
         "-0.02587906",
         "0.09558939",
         "0.001051662",
         "0.0047793635",
         "-0.05543897",
         "0.028133808",
         "0.118702345",
         "0.039802752",
         "0.054256346",
         "-0.000477597",
         "0.015265923",
         "-0.093578316",
         "0.055546045",
         "0.0006727666",
         "-0.07710256",
         "0.04140128",
         "0.030370397",
         "0.075462386",
         "-0.04026388",
         "-0.019770157",
         "0.047211576",
         "-0.040649254",
         "-0.009950137",
         "-0.006548956",
         "-0.0020077755",
         "0.024659539",
         "-0.013695641",
         "-0.05301092",
         "-0.017040223",
         "0.009026311",
         "-0.063265264",
         "-0.06884631",
         "0.0011741144",
         "0.031613868",
         "-0.037829947",
         "-0.014627336",
         "0.00305474",
         "-0.014355368",
         "0.06531724",
         "-0.0040960503",
         "-0.0012576005",
         "-0.07701019",
         "0.042066008",
         "0.021774527",
         "0.08678861",
         "8.761453e-33",
         "0.024239166",
         "-0.00017091347",
         "-0.014914876",
         "0.03342916",
         "0.10517077",
         "0.034637365",
         "0.061595306",
         "0.030011982",
         "0.09520852",
         "-0.008909564",
         "4.0993174e-05",
         "0.017217191",
         "-0.09017316",
         "-0.04695373",
         "0.0031905759",
         "0.05144181",
         "0.08196787",
         "-0.01915691",
         "-0.07816772",
         "-0.0060505765",
         "0.028834915",
         "-0.02974767",
         "-0.026213061",
         "0.029375976",
         "0.04011984",
         "-0.014440352",
         "-0.019144472",
         "0.014855079",
         "0.008670689",
         "0.033747427",
         "0.0589147",
         "0.037156865",
         "-0.013224115",
         "0.01753317",
         "-0.10189842",
         "0.022243304",
         "-0.07825261",
         "-0.061133124",
         "0.007147495",
         "-0.10570272",
         "-0.027891902",
         "0.017312704",
         "0.055945292",
         "0.0122735165",
         "-0.00177184",
         "-0.079717",
         "0.04113231",
         "0.042534128",
         "0.097013816",
         "0.039272964",
         "-0.0030284547",
         "0.019252023",
         "-0.09838465",
         "-0.0585432",
         "-0.050045907",
         "0.023804387",
         "0.06392546",
         "-0.04420033",
         "-0.04165917",
         "0.08367973",
         "-0.052047547",
         "0.057601288",
         "-0.031473916",
         "0.03346004",
         "0.0006027077",
         "-0.1201098",
         "0.07027266",
         "0.03333189",
         "0.067980684",
         "-0.08345534",
         "-0.08790889",
         "-0.009272551",
         "0.06223774",
         "-0.027102599",
         "-0.067366116",
         "0.014723612",
         "-0.0007491575",
         "-0.040569715",
         "-0.05098884",
         "-0.0010201358",
         "-0.012378018",
         "0.0032307068",
         "0.040336713",
         "-0.022341797",
         "0.020320192",
         "0.0038744537",
         "0.0013720333",
         "0.002720884",
         "0.018127164",
         "-0.0017484018",
         "-0.02066925",
         "-0.003258341",
         "-0.031492665",
         "-0.010288951",
         "-0.04864336",
         "-1.01267854e-32",
         "0.023045847",
         "-0.027197823",
         "-0.05568908",
         "0.061160434",
         "0.04802296",
         "0.048840627",
         "-0.017134268",
         "-0.083648466",
         "-0.08660338",
         "-0.016387764",
         "-0.04359741",
         "0.040687997",
         "-0.010255568",
         "-0.0618799",
         "-0.013142297",
         "0.099599086",
         "0.030833572",
         "-0.053602874",
         "-0.053042766",
         "0.0063352156",
         "0.04078026",
         "0.092172116",
         "-0.006537148",
         "0.046375833",
         "-0.06056499",
         "0.0061332635",
         "-0.034781087",
         "0.037565712",
         "0.030392725",
         "0.06680017",
         "-0.036640823",
         "0.016088897",
         "0.0295331",
         "0.018415",
         "0.017384859",
         "-0.113701954",
         "0.021852871",
         "-0.038515467",
         "-0.026810898",
         "0.031626",
         "0.14338452",
         "-0.07747179",
         "-0.015038832",
         "-0.0416558",
         "-0.064751364",
         "-0.0056380914",
         "-0.04313125",
         "-0.047524214",
         "-0.028722411",
         "0.0111943735",
         "0.06915094",
         "0.0030590815",
         "-0.023056718",
         "0.04923475",
         "0.003287491",
         "0.116671406",
         "-0.003954586",
         "-0.051509976",
         "-0.03397325",
         "0.054127254",
         "0.05908127",
         "0.07349568",
         "0.04134421",
         "0.02698814",
         "0.004108635",
         "0.01160098",
         "-0.011893321",
         "0.040597375",
         "-0.037625875",
         "-0.06300131",
         "-0.033493385",
         "-0.01641144",
         "0.07632436",
         "-0.09353613",
         "-0.073895484",
         "-0.08966987",
         "-0.020808857",
         "-0.088802375",
         "-0.034391396",
         "0.019971937",
         "-0.042959295",
         "-0.0041065887",
         "-0.0013468049",
         "0.01321447",
         "-0.02167776",
         "-0.028812094",
         "-0.045292027",
         "0.019638771",
         "0.09409906",
         "0.015216958",
         "-0.08812928",
         "-0.0036253165",
         "-0.11095921",
         "0.039892286",
         "-0.006570538",
         "-5.6739285e-08",
         "-0.055396996",
         "0.03215731",
         "0.0037469924",
         "-0.0015333267",
         "-0.00570468",
         "-0.08530204",
         "0.045028444",
         "0.106158994",
         "-0.010672559",
         "0.023141172",
         "0.047320087",
         "-0.07415096",
         "-0.016734578",
         "-0.026374236",
         "0.095694475",
         "0.031205833",
         "0.0010610549",
         "0.06199602",
         "-0.10130054",
         "-0.04337428",
         "0.06469962",
         "-0.041514505",
         "0.01235422",
         "0.113575496",
         "-0.023174275",
         "-0.0059217606",
         "-0.07346318",
         "0.054457523",
         "0.08657735",
         "0.06361581",
         "-0.010248744",
         "-0.0008974588",
         "0.03633253",
         "-0.053898495",
         "-0.020964127",
         "-0.008405156",
         "0.0026501094",
         "-0.14761874",
         "0.041818373",
         "0.08362617",
         "-0.030757096",
         "0.035425276",
         "-0.0667833",
         "0.05910907",
         "0.06843168",
         "-0.034680188",
         "-0.024880284",
         "0.0030702895",
         "-0.009567432",
         "-0.036532562",
         "-0.011915351",
         "-0.03226023",
         "0.016278159",
         "0.079027295",
         "-0.038246866",
         "0.105756186",
         "0.04297953",
         "-0.058360133",
         "0.05373988",
         "0.05873893",
         "-0.029364",
         "-0.0044154096",
         "0.06134988",
         "-0.009835819"
        ],
        [
         "1",
         "-0.07435603",
         "0.0011751421",
         "-0.01589713",
         "0.07125123",
         "-0.01882397",
         "-0.09053615",
         "0.03361149",
         "0.021952443",
         "-0.1260409",
         "0.006626528",
         "-0.12494072",
         "-0.055204835",
         "0.036873262",
         "-0.027561042",
         "0.009624265",
         "0.05681624",
         "-0.051400248",
         "-0.017310547",
         "0.0017054898",
         "-0.10032838",
         "0.02121272",
         "-0.0051640235",
         "-0.063280724",
         "-0.010080026",
         "-0.015110798",
         "-0.017201373",
         "0.08255179",
         "-0.016142162",
         "0.020714624",
         "0.028604759",
         "-0.02676049",
         "0.012198061",
         "0.08144969",
         "0.018553829",
         "-0.04287188",
         "0.04230113",
         "-0.021929098",
         "0.0054560523",
         "0.038174815",
         "0.0042009307",
         "-0.06267925",
         "-0.096587114",
         "-0.02364081",
         "-0.058786932",
         "0.0028015296",
         "-0.026981317",
         "-0.0109944325",
         "-0.007430138",
         "-0.031330388",
         "0.009948634",
         "-0.1908606",
         "-0.012522219",
         "0.01705392",
         "-0.0010941972",
         "-0.045683406",
         "0.038372904",
         "0.027765876",
         "-0.006703263",
         "0.018153774",
         "-0.01910982",
         "-0.020859059",
         "-0.08938467",
         "-0.010018474",
         "-0.026177678",
         "-0.008995302",
         "0.057931945",
         "-0.043534353",
         "0.08093595",
         "-0.0003765894",
         "-0.058761165",
         "-0.014275635",
         "0.050885648",
         "-0.06879257",
         "0.05018175",
         "0.052015435",
         "0.00057331537",
         "0.055736933",
         "0.029717552",
         "0.098267764",
         "-0.07474269",
         "-0.05437795",
         "0.0019496005",
         "-0.14183609",
         "0.0868297",
         "-0.039536275",
         "-0.027457282",
         "0.02101226",
         "0.031501994",
         "0.06442652",
         "0.037418272",
         "0.06521574",
         "-0.0061785616",
         "-0.040713087",
         "-0.022224277",
         "-0.012285136",
         "0.0152843855",
         "-0.06435919",
         "-0.047151104",
         "0.07760168",
         "0.038860433",
         "-0.017055254",
         "0.102939814",
         "0.068131566",
         "-0.020103281",
         "-0.08442993",
         "-0.021869978",
         "0.0132898865",
         "0.033126432",
         "0.020481702",
         "-0.061866544",
         "-0.03532156",
         "-0.0044810385",
         "-0.022061875",
         "-0.092998795",
         "0.0081223305",
         "-0.049860653",
         "-0.06808933",
         "0.018382763",
         "-0.047470096",
         "0.13267122",
         "0.037896004",
         "0.10668644",
         "0.00079620286",
         "-0.07719147",
         "0.053765547",
         "0.029633978",
         "-0.10564207",
         "1.1246102e-32",
         "-0.008567737",
         "-0.01296738",
         "-0.009340147",
         "-0.025386697",
         "0.011931001",
         "0.0021170424",
         "0.0087477155",
         "0.018551279",
         "0.03868541",
         "0.024189126",
         "0.007868169",
         "0.027579311",
         "-0.01907004",
         "0.1095967",
         "0.0971434",
         "-0.023666292",
         "0.036758203",
         "0.05650412",
         "-0.034957536",
         "-0.0077623078",
         "0.090008475",
         "-0.07760591",
         "-0.00040733858",
         "-0.016491486",
         "0.03822192",
         "0.009929863",
         "0.074229196",
         "0.047176797",
         "-0.023678264",
         "0.046647474",
         "0.054384016",
         "-0.0047393427",
         "-0.07025612",
         "0.041058086",
         "0.053246275",
         "0.034205552",
         "-0.04797786",
         "-0.040096074",
         "0.052211456",
         "0.031699065",
         "-0.06642028",
         "0.013175994",
         "0.041446604",
         "0.00022777269",
         "-0.07316129",
         "0.018049225",
         "0.030855676",
         "-0.014452361",
         "0.09805335",
         "-0.014647",
         "0.055872165",
         "-0.09643755",
         "0.045727693",
         "-0.0008185585",
         "-0.048803706",
         "0.11098622",
         "0.0054161553",
         "-0.12414767",
         "0.032391403",
         "0.038872436",
         "-0.07392164",
         "-0.06442609",
         "0.0243179",
         "-0.022643756",
         "-0.088018626",
         "-0.0061794003",
         "0.06663585",
         "0.015266684",
         "0.030049276",
         "-0.018815814",
         "0.05952144",
         "0.006658432",
         "0.0999954",
         "-0.007899463",
         "0.011405814",
         "0.030708019",
         "0.047066282",
         "0.033125795",
         "0.0065680463",
         "0.016376153",
         "-0.039719682",
         "0.06747636",
         "0.092698835",
         "-0.095881745",
         "0.05811211",
         "0.022855828",
         "0.04789382",
         "0.016669312",
         "-0.054687463",
         "-0.038441606",
         "-0.095718436",
         "0.062610604",
         "-0.108517215",
         "0.036412854",
         "-0.02709514",
         "-1.1986747e-32",
         "-0.08191496",
         "0.014923621",
         "0.03519755",
         "-0.013274447",
         "0.013492005",
         "0.0053337677",
         "-0.04626267",
         "-0.004124062",
         "0.060434982",
         "-0.09388901",
         "-0.021557845",
         "-0.02520146",
         "0.019999932",
         "0.010848444",
         "-0.07033298",
         "0.053316876",
         "0.0073157963",
         "-0.035250068",
         "-0.0285805",
         "0.0097620245",
         "-0.062007356",
         "0.049336787",
         "-0.10717516",
         "-0.015771613",
         "0.03521753",
         "-0.070174634",
         "-0.008198",
         "0.062155526",
         "0.02486079",
         "0.049705278",
         "-0.034291178",
         "-0.049183745",
         "-0.05328947",
         "-0.002091245",
         "0.014907824",
         "-0.013689788",
         "0.051411785",
         "-0.09245102",
         "0.042894725",
         "0.018099077",
         "0.03392059",
         "0.037377376",
         "0.008957934",
         "-0.061072707",
         "0.0072292755",
         "-0.016513463",
         "-0.01532757",
         "0.030222185",
         "0.04305151",
         "-0.0230743",
         "0.031156616",
         "0.055638917",
         "-0.035616573",
         "-0.02722893",
         "-0.036512822",
         "0.034539495",
         "-0.0044458155",
         "-0.050701916",
         "-0.03221981",
         "0.016210767",
         "-0.009840382",
         "0.06624017",
         "0.14485312",
         "0.031239672",
         "-0.009421501",
         "-0.025959123",
         "0.006722749",
         "-0.043199915",
         "-0.07407563",
         "-0.06637964",
         "-0.011776728",
         "0.015238665",
         "0.013261485",
         "0.0018880166",
         "-0.09078818",
         "-0.030590573",
         "-0.06740329",
         "0.00954032",
         "0.0008050044",
         "0.048257075",
         "-0.0023539492",
         "0.030736985",
         "0.016011085",
         "0.0043899724",
         "-0.03306929",
         "0.008070523",
         "0.07349365",
         "0.029080115",
         "0.0043848343",
         "-0.08525053",
         "-0.1595851",
         "-0.027973196",
         "-0.05725619",
         "0.058049433",
         "-0.0040050093",
         "-5.9407515e-08",
         "-0.043327183",
         "-0.054745767",
         "0.055583064",
         "0.01482067",
         "0.056365315",
         "0.05210031",
         "-0.017642472",
         "0.09431648",
         "-0.032851387",
         "-0.08390086",
         "0.015131194",
         "0.022306083",
         "-0.10587675",
         "0.06481801",
         "0.049260534",
         "-0.021544693",
         "-0.03601361",
         "-0.010265497",
         "-0.06818701",
         "-0.060524054",
         "0.07928364",
         "-0.027502438",
         "0.035020553",
         "0.008079928",
         "0.11385329",
         "-0.060934294",
         "-0.00901062",
         "0.007359839",
         "0.011286886",
         "0.019433303",
         "-0.018458938",
         "-0.013914561",
         "-0.032185514",
         "-0.10220791",
         "0.09998945",
         "0.028662989",
         "0.035224594",
         "-0.03776111",
         "-0.010789515",
         "-0.0019801015",
         "-0.001701022",
         "0.046628073",
         "0.017288761",
         "0.03080045",
         "0.04991081",
         "-0.032334052",
         "-0.06005772",
         "0.01680435",
         "0.050584402",
         "-0.0013223985",
         "0.0601316",
         "-0.024269177",
         "-0.01568277",
         "0.04519914",
         "0.07687005",
         "0.04245238",
         "-0.015705304",
         "-0.00044177595",
         "-0.0070093507",
         "0.021755366",
         "0.021567797",
         "-0.073071696",
         "-0.034014627",
         "0.06958792"
        ]
       ],
       "shape": {
        "columns": 384,
        "rows": 2
       }
      },
      "text/html": [
       "<div>\n",
       "<style scoped>\n",
       "    .dataframe tbody tr th:only-of-type {\n",
       "        vertical-align: middle;\n",
       "    }\n",
       "\n",
       "    .dataframe tbody tr th {\n",
       "        vertical-align: top;\n",
       "    }\n",
       "\n",
       "    .dataframe thead th {\n",
       "        text-align: right;\n",
       "    }\n",
       "</style>\n",
       "<table border=\"1\" class=\"dataframe\">\n",
       "  <thead>\n",
       "    <tr style=\"text-align: right;\">\n",
       "      <th></th>\n",
       "      <th>0</th>\n",
       "      <th>1</th>\n",
       "      <th>2</th>\n",
       "      <th>3</th>\n",
       "      <th>4</th>\n",
       "      <th>5</th>\n",
       "      <th>6</th>\n",
       "      <th>7</th>\n",
       "      <th>8</th>\n",
       "      <th>9</th>\n",
       "      <th>...</th>\n",
       "      <th>374</th>\n",
       "      <th>375</th>\n",
       "      <th>376</th>\n",
       "      <th>377</th>\n",
       "      <th>378</th>\n",
       "      <th>379</th>\n",
       "      <th>380</th>\n",
       "      <th>381</th>\n",
       "      <th>382</th>\n",
       "      <th>383</th>\n",
       "    </tr>\n",
       "  </thead>\n",
       "  <tbody>\n",
       "    <tr>\n",
       "      <th>0</th>\n",
       "      <td>-0.063283</td>\n",
       "      <td>0.003240</td>\n",
       "      <td>0.069593</td>\n",
       "      <td>-0.049039</td>\n",
       "      <td>-0.017034</td>\n",
       "      <td>0.005385</td>\n",
       "      <td>0.008891</td>\n",
       "      <td>-0.032807</td>\n",
       "      <td>-0.113467</td>\n",
       "      <td>-0.031761</td>\n",
       "      <td>...</td>\n",
       "      <td>-0.038247</td>\n",
       "      <td>0.105756</td>\n",
       "      <td>0.042980</td>\n",
       "      <td>-0.058360</td>\n",
       "      <td>0.053740</td>\n",
       "      <td>0.058739</td>\n",
       "      <td>-0.029364</td>\n",
       "      <td>-0.004415</td>\n",
       "      <td>0.061350</td>\n",
       "      <td>-0.009836</td>\n",
       "    </tr>\n",
       "    <tr>\n",
       "      <th>1</th>\n",
       "      <td>-0.074356</td>\n",
       "      <td>0.001175</td>\n",
       "      <td>-0.015897</td>\n",
       "      <td>0.071251</td>\n",
       "      <td>-0.018824</td>\n",
       "      <td>-0.090536</td>\n",
       "      <td>0.033611</td>\n",
       "      <td>0.021952</td>\n",
       "      <td>-0.126041</td>\n",
       "      <td>0.006627</td>\n",
       "      <td>...</td>\n",
       "      <td>0.076870</td>\n",
       "      <td>0.042452</td>\n",
       "      <td>-0.015705</td>\n",
       "      <td>-0.000442</td>\n",
       "      <td>-0.007009</td>\n",
       "      <td>0.021755</td>\n",
       "      <td>0.021568</td>\n",
       "      <td>-0.073072</td>\n",
       "      <td>-0.034015</td>\n",
       "      <td>0.069588</td>\n",
       "    </tr>\n",
       "  </tbody>\n",
       "</table>\n",
       "<p>2 rows × 384 columns</p>\n",
       "</div>"
      ],
      "text/plain": [
       "        0         1         2         3         4         5         6    \\\n",
       "0 -0.063283  0.003240  0.069593 -0.049039 -0.017034  0.005385  0.008891   \n",
       "1 -0.074356  0.001175 -0.015897  0.071251 -0.018824 -0.090536  0.033611   \n",
       "\n",
       "        7         8         9    ...       374       375       376       377  \\\n",
       "0 -0.032807 -0.113467 -0.031761  ... -0.038247  0.105756  0.042980 -0.058360   \n",
       "1  0.021952 -0.126041  0.006627  ...  0.076870  0.042452 -0.015705 -0.000442   \n",
       "\n",
       "        378       379       380       381       382       383  \n",
       "0  0.053740  0.058739 -0.029364 -0.004415  0.061350 -0.009836  \n",
       "1 -0.007009  0.021755  0.021568 -0.073072 -0.034015  0.069588  \n",
       "\n",
       "[2 rows x 384 columns]"
      ]
     },
     "execution_count": 16,
     "metadata": {},
     "output_type": "execute_result"
    }
   ],
   "source": [
    "pd.DataFrame(X_embeddings[:2])"
   ]
  },
  {
   "cell_type": "code",
   "execution_count": 17,
   "id": "ff6a8069",
   "metadata": {},
   "outputs": [],
   "source": [
    "X_train, X_test, y_train, y_test = train_test_split(X_embeddings, y, test_size=0.2,stratify=y, random_state=42)"
   ]
  },
  {
   "cell_type": "code",
   "execution_count": 24,
   "id": "b05774f4",
   "metadata": {},
   "outputs": [],
   "source": [
    "from sklearn.ensemble import  RandomForestClassifier, GradientBoostingClassifier\n",
    "from sklearn.neural_network import MLPClassifier\n",
    "from xgboost import XGBClassifier"
   ]
  },
  {
   "cell_type": "code",
   "execution_count": 26,
   "id": "4cef841e",
   "metadata": {},
   "outputs": [],
   "source": [
    "model1 = RandomForestClassifier(n_estimators=100, random_state=42)\n",
    "model2 = GradientBoostingClassifier()\n",
    "model3 = MLPClassifier(max_iter=300, random_state=42, hidden_layer_sizes=(100,))\n",
    "model4 = XGBClassifier(use_label_encoder=False, eval_metric='logloss')"
   ]
  },
  {
   "cell_type": "code",
   "execution_count": 27,
   "id": "eee50b68",
   "metadata": {},
   "outputs": [
    {
     "data": {
      "text/html": [
       "<style>#sk-container-id-2 {\n",
       "  /* Definition of color scheme common for light and dark mode */\n",
       "  --sklearn-color-text: #000;\n",
       "  --sklearn-color-text-muted: #666;\n",
       "  --sklearn-color-line: gray;\n",
       "  /* Definition of color scheme for unfitted estimators */\n",
       "  --sklearn-color-unfitted-level-0: #fff5e6;\n",
       "  --sklearn-color-unfitted-level-1: #f6e4d2;\n",
       "  --sklearn-color-unfitted-level-2: #ffe0b3;\n",
       "  --sklearn-color-unfitted-level-3: chocolate;\n",
       "  /* Definition of color scheme for fitted estimators */\n",
       "  --sklearn-color-fitted-level-0: #f0f8ff;\n",
       "  --sklearn-color-fitted-level-1: #d4ebff;\n",
       "  --sklearn-color-fitted-level-2: #b3dbfd;\n",
       "  --sklearn-color-fitted-level-3: cornflowerblue;\n",
       "\n",
       "  /* Specific color for light theme */\n",
       "  --sklearn-color-text-on-default-background: var(--sg-text-color, var(--theme-code-foreground, var(--jp-content-font-color1, black)));\n",
       "  --sklearn-color-background: var(--sg-background-color, var(--theme-background, var(--jp-layout-color0, white)));\n",
       "  --sklearn-color-border-box: var(--sg-text-color, var(--theme-code-foreground, var(--jp-content-font-color1, black)));\n",
       "  --sklearn-color-icon: #696969;\n",
       "\n",
       "  @media (prefers-color-scheme: dark) {\n",
       "    /* Redefinition of color scheme for dark theme */\n",
       "    --sklearn-color-text-on-default-background: var(--sg-text-color, var(--theme-code-foreground, var(--jp-content-font-color1, white)));\n",
       "    --sklearn-color-background: var(--sg-background-color, var(--theme-background, var(--jp-layout-color0, #111)));\n",
       "    --sklearn-color-border-box: var(--sg-text-color, var(--theme-code-foreground, var(--jp-content-font-color1, white)));\n",
       "    --sklearn-color-icon: #878787;\n",
       "  }\n",
       "}\n",
       "\n",
       "#sk-container-id-2 {\n",
       "  color: var(--sklearn-color-text);\n",
       "}\n",
       "\n",
       "#sk-container-id-2 pre {\n",
       "  padding: 0;\n",
       "}\n",
       "\n",
       "#sk-container-id-2 input.sk-hidden--visually {\n",
       "  border: 0;\n",
       "  clip: rect(1px 1px 1px 1px);\n",
       "  clip: rect(1px, 1px, 1px, 1px);\n",
       "  height: 1px;\n",
       "  margin: -1px;\n",
       "  overflow: hidden;\n",
       "  padding: 0;\n",
       "  position: absolute;\n",
       "  width: 1px;\n",
       "}\n",
       "\n",
       "#sk-container-id-2 div.sk-dashed-wrapped {\n",
       "  border: 1px dashed var(--sklearn-color-line);\n",
       "  margin: 0 0.4em 0.5em 0.4em;\n",
       "  box-sizing: border-box;\n",
       "  padding-bottom: 0.4em;\n",
       "  background-color: var(--sklearn-color-background);\n",
       "}\n",
       "\n",
       "#sk-container-id-2 div.sk-container {\n",
       "  /* jupyter's `normalize.less` sets `[hidden] { display: none; }`\n",
       "     but bootstrap.min.css set `[hidden] { display: none !important; }`\n",
       "     so we also need the `!important` here to be able to override the\n",
       "     default hidden behavior on the sphinx rendered scikit-learn.org.\n",
       "     See: https://github.com/scikit-learn/scikit-learn/issues/21755 */\n",
       "  display: inline-block !important;\n",
       "  position: relative;\n",
       "}\n",
       "\n",
       "#sk-container-id-2 div.sk-text-repr-fallback {\n",
       "  display: none;\n",
       "}\n",
       "\n",
       "div.sk-parallel-item,\n",
       "div.sk-serial,\n",
       "div.sk-item {\n",
       "  /* draw centered vertical line to link estimators */\n",
       "  background-image: linear-gradient(var(--sklearn-color-text-on-default-background), var(--sklearn-color-text-on-default-background));\n",
       "  background-size: 2px 100%;\n",
       "  background-repeat: no-repeat;\n",
       "  background-position: center center;\n",
       "}\n",
       "\n",
       "/* Parallel-specific style estimator block */\n",
       "\n",
       "#sk-container-id-2 div.sk-parallel-item::after {\n",
       "  content: \"\";\n",
       "  width: 100%;\n",
       "  border-bottom: 2px solid var(--sklearn-color-text-on-default-background);\n",
       "  flex-grow: 1;\n",
       "}\n",
       "\n",
       "#sk-container-id-2 div.sk-parallel {\n",
       "  display: flex;\n",
       "  align-items: stretch;\n",
       "  justify-content: center;\n",
       "  background-color: var(--sklearn-color-background);\n",
       "  position: relative;\n",
       "}\n",
       "\n",
       "#sk-container-id-2 div.sk-parallel-item {\n",
       "  display: flex;\n",
       "  flex-direction: column;\n",
       "}\n",
       "\n",
       "#sk-container-id-2 div.sk-parallel-item:first-child::after {\n",
       "  align-self: flex-end;\n",
       "  width: 50%;\n",
       "}\n",
       "\n",
       "#sk-container-id-2 div.sk-parallel-item:last-child::after {\n",
       "  align-self: flex-start;\n",
       "  width: 50%;\n",
       "}\n",
       "\n",
       "#sk-container-id-2 div.sk-parallel-item:only-child::after {\n",
       "  width: 0;\n",
       "}\n",
       "\n",
       "/* Serial-specific style estimator block */\n",
       "\n",
       "#sk-container-id-2 div.sk-serial {\n",
       "  display: flex;\n",
       "  flex-direction: column;\n",
       "  align-items: center;\n",
       "  background-color: var(--sklearn-color-background);\n",
       "  padding-right: 1em;\n",
       "  padding-left: 1em;\n",
       "}\n",
       "\n",
       "\n",
       "/* Toggleable style: style used for estimator/Pipeline/ColumnTransformer box that is\n",
       "clickable and can be expanded/collapsed.\n",
       "- Pipeline and ColumnTransformer use this feature and define the default style\n",
       "- Estimators will overwrite some part of the style using the `sk-estimator` class\n",
       "*/\n",
       "\n",
       "/* Pipeline and ColumnTransformer style (default) */\n",
       "\n",
       "#sk-container-id-2 div.sk-toggleable {\n",
       "  /* Default theme specific background. It is overwritten whether we have a\n",
       "  specific estimator or a Pipeline/ColumnTransformer */\n",
       "  background-color: var(--sklearn-color-background);\n",
       "}\n",
       "\n",
       "/* Toggleable label */\n",
       "#sk-container-id-2 label.sk-toggleable__label {\n",
       "  cursor: pointer;\n",
       "  display: flex;\n",
       "  width: 100%;\n",
       "  margin-bottom: 0;\n",
       "  padding: 0.5em;\n",
       "  box-sizing: border-box;\n",
       "  text-align: center;\n",
       "  align-items: start;\n",
       "  justify-content: space-between;\n",
       "  gap: 0.5em;\n",
       "}\n",
       "\n",
       "#sk-container-id-2 label.sk-toggleable__label .caption {\n",
       "  font-size: 0.6rem;\n",
       "  font-weight: lighter;\n",
       "  color: var(--sklearn-color-text-muted);\n",
       "}\n",
       "\n",
       "#sk-container-id-2 label.sk-toggleable__label-arrow:before {\n",
       "  /* Arrow on the left of the label */\n",
       "  content: \"▸\";\n",
       "  float: left;\n",
       "  margin-right: 0.25em;\n",
       "  color: var(--sklearn-color-icon);\n",
       "}\n",
       "\n",
       "#sk-container-id-2 label.sk-toggleable__label-arrow:hover:before {\n",
       "  color: var(--sklearn-color-text);\n",
       "}\n",
       "\n",
       "/* Toggleable content - dropdown */\n",
       "\n",
       "#sk-container-id-2 div.sk-toggleable__content {\n",
       "  max-height: 0;\n",
       "  max-width: 0;\n",
       "  overflow: hidden;\n",
       "  text-align: left;\n",
       "  /* unfitted */\n",
       "  background-color: var(--sklearn-color-unfitted-level-0);\n",
       "}\n",
       "\n",
       "#sk-container-id-2 div.sk-toggleable__content.fitted {\n",
       "  /* fitted */\n",
       "  background-color: var(--sklearn-color-fitted-level-0);\n",
       "}\n",
       "\n",
       "#sk-container-id-2 div.sk-toggleable__content pre {\n",
       "  margin: 0.2em;\n",
       "  border-radius: 0.25em;\n",
       "  color: var(--sklearn-color-text);\n",
       "  /* unfitted */\n",
       "  background-color: var(--sklearn-color-unfitted-level-0);\n",
       "}\n",
       "\n",
       "#sk-container-id-2 div.sk-toggleable__content.fitted pre {\n",
       "  /* unfitted */\n",
       "  background-color: var(--sklearn-color-fitted-level-0);\n",
       "}\n",
       "\n",
       "#sk-container-id-2 input.sk-toggleable__control:checked~div.sk-toggleable__content {\n",
       "  /* Expand drop-down */\n",
       "  max-height: 200px;\n",
       "  max-width: 100%;\n",
       "  overflow: auto;\n",
       "}\n",
       "\n",
       "#sk-container-id-2 input.sk-toggleable__control:checked~label.sk-toggleable__label-arrow:before {\n",
       "  content: \"▾\";\n",
       "}\n",
       "\n",
       "/* Pipeline/ColumnTransformer-specific style */\n",
       "\n",
       "#sk-container-id-2 div.sk-label input.sk-toggleable__control:checked~label.sk-toggleable__label {\n",
       "  color: var(--sklearn-color-text);\n",
       "  background-color: var(--sklearn-color-unfitted-level-2);\n",
       "}\n",
       "\n",
       "#sk-container-id-2 div.sk-label.fitted input.sk-toggleable__control:checked~label.sk-toggleable__label {\n",
       "  background-color: var(--sklearn-color-fitted-level-2);\n",
       "}\n",
       "\n",
       "/* Estimator-specific style */\n",
       "\n",
       "/* Colorize estimator box */\n",
       "#sk-container-id-2 div.sk-estimator input.sk-toggleable__control:checked~label.sk-toggleable__label {\n",
       "  /* unfitted */\n",
       "  background-color: var(--sklearn-color-unfitted-level-2);\n",
       "}\n",
       "\n",
       "#sk-container-id-2 div.sk-estimator.fitted input.sk-toggleable__control:checked~label.sk-toggleable__label {\n",
       "  /* fitted */\n",
       "  background-color: var(--sklearn-color-fitted-level-2);\n",
       "}\n",
       "\n",
       "#sk-container-id-2 div.sk-label label.sk-toggleable__label,\n",
       "#sk-container-id-2 div.sk-label label {\n",
       "  /* The background is the default theme color */\n",
       "  color: var(--sklearn-color-text-on-default-background);\n",
       "}\n",
       "\n",
       "/* On hover, darken the color of the background */\n",
       "#sk-container-id-2 div.sk-label:hover label.sk-toggleable__label {\n",
       "  color: var(--sklearn-color-text);\n",
       "  background-color: var(--sklearn-color-unfitted-level-2);\n",
       "}\n",
       "\n",
       "/* Label box, darken color on hover, fitted */\n",
       "#sk-container-id-2 div.sk-label.fitted:hover label.sk-toggleable__label.fitted {\n",
       "  color: var(--sklearn-color-text);\n",
       "  background-color: var(--sklearn-color-fitted-level-2);\n",
       "}\n",
       "\n",
       "/* Estimator label */\n",
       "\n",
       "#sk-container-id-2 div.sk-label label {\n",
       "  font-family: monospace;\n",
       "  font-weight: bold;\n",
       "  display: inline-block;\n",
       "  line-height: 1.2em;\n",
       "}\n",
       "\n",
       "#sk-container-id-2 div.sk-label-container {\n",
       "  text-align: center;\n",
       "}\n",
       "\n",
       "/* Estimator-specific */\n",
       "#sk-container-id-2 div.sk-estimator {\n",
       "  font-family: monospace;\n",
       "  border: 1px dotted var(--sklearn-color-border-box);\n",
       "  border-radius: 0.25em;\n",
       "  box-sizing: border-box;\n",
       "  margin-bottom: 0.5em;\n",
       "  /* unfitted */\n",
       "  background-color: var(--sklearn-color-unfitted-level-0);\n",
       "}\n",
       "\n",
       "#sk-container-id-2 div.sk-estimator.fitted {\n",
       "  /* fitted */\n",
       "  background-color: var(--sklearn-color-fitted-level-0);\n",
       "}\n",
       "\n",
       "/* on hover */\n",
       "#sk-container-id-2 div.sk-estimator:hover {\n",
       "  /* unfitted */\n",
       "  background-color: var(--sklearn-color-unfitted-level-2);\n",
       "}\n",
       "\n",
       "#sk-container-id-2 div.sk-estimator.fitted:hover {\n",
       "  /* fitted */\n",
       "  background-color: var(--sklearn-color-fitted-level-2);\n",
       "}\n",
       "\n",
       "/* Specification for estimator info (e.g. \"i\" and \"?\") */\n",
       "\n",
       "/* Common style for \"i\" and \"?\" */\n",
       "\n",
       ".sk-estimator-doc-link,\n",
       "a:link.sk-estimator-doc-link,\n",
       "a:visited.sk-estimator-doc-link {\n",
       "  float: right;\n",
       "  font-size: smaller;\n",
       "  line-height: 1em;\n",
       "  font-family: monospace;\n",
       "  background-color: var(--sklearn-color-background);\n",
       "  border-radius: 1em;\n",
       "  height: 1em;\n",
       "  width: 1em;\n",
       "  text-decoration: none !important;\n",
       "  margin-left: 0.5em;\n",
       "  text-align: center;\n",
       "  /* unfitted */\n",
       "  border: var(--sklearn-color-unfitted-level-1) 1pt solid;\n",
       "  color: var(--sklearn-color-unfitted-level-1);\n",
       "}\n",
       "\n",
       ".sk-estimator-doc-link.fitted,\n",
       "a:link.sk-estimator-doc-link.fitted,\n",
       "a:visited.sk-estimator-doc-link.fitted {\n",
       "  /* fitted */\n",
       "  border: var(--sklearn-color-fitted-level-1) 1pt solid;\n",
       "  color: var(--sklearn-color-fitted-level-1);\n",
       "}\n",
       "\n",
       "/* On hover */\n",
       "div.sk-estimator:hover .sk-estimator-doc-link:hover,\n",
       ".sk-estimator-doc-link:hover,\n",
       "div.sk-label-container:hover .sk-estimator-doc-link:hover,\n",
       ".sk-estimator-doc-link:hover {\n",
       "  /* unfitted */\n",
       "  background-color: var(--sklearn-color-unfitted-level-3);\n",
       "  color: var(--sklearn-color-background);\n",
       "  text-decoration: none;\n",
       "}\n",
       "\n",
       "div.sk-estimator.fitted:hover .sk-estimator-doc-link.fitted:hover,\n",
       ".sk-estimator-doc-link.fitted:hover,\n",
       "div.sk-label-container:hover .sk-estimator-doc-link.fitted:hover,\n",
       ".sk-estimator-doc-link.fitted:hover {\n",
       "  /* fitted */\n",
       "  background-color: var(--sklearn-color-fitted-level-3);\n",
       "  color: var(--sklearn-color-background);\n",
       "  text-decoration: none;\n",
       "}\n",
       "\n",
       "/* Span, style for the box shown on hovering the info icon */\n",
       ".sk-estimator-doc-link span {\n",
       "  display: none;\n",
       "  z-index: 9999;\n",
       "  position: relative;\n",
       "  font-weight: normal;\n",
       "  right: .2ex;\n",
       "  padding: .5ex;\n",
       "  margin: .5ex;\n",
       "  width: min-content;\n",
       "  min-width: 20ex;\n",
       "  max-width: 50ex;\n",
       "  color: var(--sklearn-color-text);\n",
       "  box-shadow: 2pt 2pt 4pt #999;\n",
       "  /* unfitted */\n",
       "  background: var(--sklearn-color-unfitted-level-0);\n",
       "  border: .5pt solid var(--sklearn-color-unfitted-level-3);\n",
       "}\n",
       "\n",
       ".sk-estimator-doc-link.fitted span {\n",
       "  /* fitted */\n",
       "  background: var(--sklearn-color-fitted-level-0);\n",
       "  border: var(--sklearn-color-fitted-level-3);\n",
       "}\n",
       "\n",
       ".sk-estimator-doc-link:hover span {\n",
       "  display: block;\n",
       "}\n",
       "\n",
       "/* \"?\"-specific style due to the `<a>` HTML tag */\n",
       "\n",
       "#sk-container-id-2 a.estimator_doc_link {\n",
       "  float: right;\n",
       "  font-size: 1rem;\n",
       "  line-height: 1em;\n",
       "  font-family: monospace;\n",
       "  background-color: var(--sklearn-color-background);\n",
       "  border-radius: 1rem;\n",
       "  height: 1rem;\n",
       "  width: 1rem;\n",
       "  text-decoration: none;\n",
       "  /* unfitted */\n",
       "  color: var(--sklearn-color-unfitted-level-1);\n",
       "  border: var(--sklearn-color-unfitted-level-1) 1pt solid;\n",
       "}\n",
       "\n",
       "#sk-container-id-2 a.estimator_doc_link.fitted {\n",
       "  /* fitted */\n",
       "  border: var(--sklearn-color-fitted-level-1) 1pt solid;\n",
       "  color: var(--sklearn-color-fitted-level-1);\n",
       "}\n",
       "\n",
       "/* On hover */\n",
       "#sk-container-id-2 a.estimator_doc_link:hover {\n",
       "  /* unfitted */\n",
       "  background-color: var(--sklearn-color-unfitted-level-3);\n",
       "  color: var(--sklearn-color-background);\n",
       "  text-decoration: none;\n",
       "}\n",
       "\n",
       "#sk-container-id-2 a.estimator_doc_link.fitted:hover {\n",
       "  /* fitted */\n",
       "  background-color: var(--sklearn-color-fitted-level-3);\n",
       "}\n",
       "</style><div id=\"sk-container-id-2\" class=\"sk-top-container\"><div class=\"sk-text-repr-fallback\"><pre>XGBClassifier(base_score=None, booster=None, callbacks=None,\n",
       "              colsample_bylevel=None, colsample_bynode=None,\n",
       "              colsample_bytree=None, device=None, early_stopping_rounds=None,\n",
       "              enable_categorical=False, eval_metric=&#x27;logloss&#x27;,\n",
       "              feature_types=None, feature_weights=None, gamma=None,\n",
       "              grow_policy=None, importance_type=None,\n",
       "              interaction_constraints=None, learning_rate=None, max_bin=None,\n",
       "              max_cat_threshold=None, max_cat_to_onehot=None,\n",
       "              max_delta_step=None, max_depth=None, max_leaves=None,\n",
       "              min_child_weight=None, missing=nan, monotone_constraints=None,\n",
       "              multi_strategy=None, n_estimators=None, n_jobs=None,\n",
       "              num_parallel_tree=None, ...)</pre><b>In a Jupyter environment, please rerun this cell to show the HTML representation or trust the notebook. <br />On GitHub, the HTML representation is unable to render, please try loading this page with nbviewer.org.</b></div><div class=\"sk-container\" hidden><div class=\"sk-item\"><div class=\"sk-estimator fitted sk-toggleable\"><input class=\"sk-toggleable__control sk-hidden--visually\" id=\"sk-estimator-id-2\" type=\"checkbox\" checked><label for=\"sk-estimator-id-2\" class=\"sk-toggleable__label fitted sk-toggleable__label-arrow\"><div><div>XGBClassifier</div></div><div><a class=\"sk-estimator-doc-link fitted\" rel=\"noreferrer\" target=\"_blank\" href=\"https://xgboost.readthedocs.io/en/release_3.0.0/python/python_api.html#xgboost.XGBClassifier\">?<span>Documentation for XGBClassifier</span></a><span class=\"sk-estimator-doc-link fitted\">i<span>Fitted</span></span></div></label><div class=\"sk-toggleable__content fitted\"><pre>XGBClassifier(base_score=None, booster=None, callbacks=None,\n",
       "              colsample_bylevel=None, colsample_bynode=None,\n",
       "              colsample_bytree=None, device=None, early_stopping_rounds=None,\n",
       "              enable_categorical=False, eval_metric=&#x27;logloss&#x27;,\n",
       "              feature_types=None, feature_weights=None, gamma=None,\n",
       "              grow_policy=None, importance_type=None,\n",
       "              interaction_constraints=None, learning_rate=None, max_bin=None,\n",
       "              max_cat_threshold=None, max_cat_to_onehot=None,\n",
       "              max_delta_step=None, max_depth=None, max_leaves=None,\n",
       "              min_child_weight=None, missing=nan, monotone_constraints=None,\n",
       "              multi_strategy=None, n_estimators=None, n_jobs=None,\n",
       "              num_parallel_tree=None, ...)</pre></div> </div></div></div></div>"
      ],
      "text/plain": [
       "XGBClassifier(base_score=None, booster=None, callbacks=None,\n",
       "              colsample_bylevel=None, colsample_bynode=None,\n",
       "              colsample_bytree=None, device=None, early_stopping_rounds=None,\n",
       "              enable_categorical=False, eval_metric='logloss',\n",
       "              feature_types=None, feature_weights=None, gamma=None,\n",
       "              grow_policy=None, importance_type=None,\n",
       "              interaction_constraints=None, learning_rate=None, max_bin=None,\n",
       "              max_cat_threshold=None, max_cat_to_onehot=None,\n",
       "              max_delta_step=None, max_depth=None, max_leaves=None,\n",
       "              min_child_weight=None, missing=nan, monotone_constraints=None,\n",
       "              multi_strategy=None, n_estimators=None, n_jobs=None,\n",
       "              num_parallel_tree=None, ...)"
      ]
     },
     "execution_count": 27,
     "metadata": {},
     "output_type": "execute_result"
    }
   ],
   "source": [
    "model1.fit(X_train, y_train)\n",
    "model2.fit(X_train, y_train)\n",
    "model3.fit(X_train, y_train)\n",
    "model4.fit(X_train, y_train)"
   ]
  },
  {
   "cell_type": "code",
   "execution_count": 28,
   "id": "1cfcfdc9",
   "metadata": {},
   "outputs": [
    {
     "name": "stdout",
     "output_type": "stream",
     "text": [
      "              precision    recall  f1-score   support\n",
      "\n",
      "           0       1.00      1.00      1.00      3403\n",
      "           1       1.00      1.00      1.00      2269\n",
      "\n",
      "    accuracy                           1.00      5672\n",
      "   macro avg       1.00      1.00      1.00      5672\n",
      "weighted avg       1.00      1.00      1.00      5672\n",
      "\n"
     ]
    }
   ],
   "source": [
    "y_pred1 = model1.predict(X_test)\n",
    "print(classification_report(y_test, y_pred1))"
   ]
  },
  {
   "cell_type": "code",
   "execution_count": 29,
   "id": "c058a194",
   "metadata": {},
   "outputs": [
    {
     "data": {
      "image/png": "[encoded data removed]",
      "text/plain": [
       "<Figure size 640x480 with 2 Axes>"
      ]
     },
     "metadata": {},
     "output_type": "display_data"
    }
   ],
   "source": [
    "cm = confusion_matrix(y_test, y_pred1)\n",
    "sns.heatmap(cm, annot=True, fmt=\"d\", cmap=\"Blues\", xticklabels=[\"Legit\", \"Fraud\"], yticklabels=[\"Legit\", \"Fraud\"])\n",
    "plt.title(\"Confusion Matrix - Embeddings + Random Forest\")\n",
    "plt.xlabel(\"Predicted\")\n",
    "plt.ylabel(\"True\")\n",
    "plt.show()\n"
   ]
  },
  {
   "cell_type": "code",
   "execution_count": 30,
   "id": "539934eb",
   "metadata": {},
   "outputs": [
    {
     "name": "stdout",
     "output_type": "stream",
     "text": [
      "              precision    recall  f1-score   support\n",
      "\n",
      "           0       0.93      0.96      0.95      3403\n",
      "           1       0.94      0.90      0.92      2269\n",
      "\n",
      "    accuracy                           0.94      5672\n",
      "   macro avg       0.94      0.93      0.93      5672\n",
      "weighted avg       0.94      0.94      0.94      5672\n",
      "\n"
     ]
    }
   ],
   "source": [
    "y_pred2= model2.predict(X_test)\n",
    "print(classification_report(y_test, y_pred2))"
   ]
  },
  {
   "cell_type": "code",
   "execution_count": 34,
   "id": "aee175c8",
   "metadata": {},
   "outputs": [
    {
     "data": {
      "image/png": "[encoded data removed]",
      "text/plain": [
       "<Figure size 640x480 with 2 Axes>"
      ]
     },
     "metadata": {},
     "output_type": "display_data"
    }
   ],
   "source": [
    "cm = confusion_matrix(y_test, y_pred2)\n",
    "sns.heatmap(cm, annot=True, fmt=\"d\", cmap=\"Blues\", xticklabels=[\"Legit\", \"Fraud\"], yticklabels=[\"Legit\", \"Fraud\"])\n",
    "plt.title(\"Confusion Matrix - Embeddings + Gradient Boosting\")\n",
    "plt.xlabel(\"Predicted\")\n",
    "plt.ylabel(\"True\")\n",
    "plt.show()\n"
   ]
  },
  {
   "cell_type": "code",
   "execution_count": 32,
   "id": "040daea3",
   "metadata": {},
   "outputs": [
    {
     "name": "stdout",
     "output_type": "stream",
     "text": [
      "              precision    recall  f1-score   support\n",
      "\n",
      "           0       1.00      0.99      0.99      3403\n",
      "           1       0.99      1.00      0.99      2269\n",
      "\n",
      "    accuracy                           0.99      5672\n",
      "   macro avg       0.99      1.00      0.99      5672\n",
      "weighted avg       0.99      0.99      0.99      5672\n",
      "\n"
     ]
    }
   ],
   "source": [
    "y_pred3 = model3.predict(X_test)\n",
    "print(classification_report(y_test, y_pred3))"
   ]
  },
  {
   "cell_type": "code",
   "execution_count": 35,
   "id": "05bfe512",
   "metadata": {},
   "outputs": [
    {
     "data": {
      "image/png": "[encoded data removed]",
      "text/plain": [
       "<Figure size 640x480 with 2 Axes>"
      ]
     },
     "metadata": {},
     "output_type": "display_data"
    }
   ],
   "source": [
    "cm = confusion_matrix(y_test, y_pred3)\n",
    "sns.heatmap(cm, annot=True, fmt=\"d\", cmap=\"Blues\", xticklabels=[\"Legit\", \"Fraud\"], yticklabels=[\"Legit\", \"Fraud\"])\n",
    "plt.title(\"Confusion Matrix - Embeddings + MLP\")\n",
    "plt.xlabel(\"Predicted\")\n",
    "plt.ylabel(\"True\")\n",
    "plt.show()\n"
   ]
  },
  {
   "cell_type": "code",
   "execution_count": 36,
   "id": "795145c6",
   "metadata": {},
   "outputs": [
    {
     "name": "stdout",
     "output_type": "stream",
     "text": [
      "              precision    recall  f1-score   support\n",
      "\n",
      "           0       1.00      1.00      1.00      3403\n",
      "           1       1.00      1.00      1.00      2269\n",
      "\n",
      "    accuracy                           1.00      5672\n",
      "   macro avg       1.00      1.00      1.00      5672\n",
      "weighted avg       1.00      1.00      1.00      5672\n",
      "\n"
     ]
    }
   ],
   "source": [
    "y_pred4 = model4.predict(X_test)\n",
    "print(classification_report(y_test, y_pred4))"
   ]
  },
  {
   "cell_type": "code",
   "execution_count": 37,
   "id": "704d81c9",
   "metadata": {},
   "outputs": [
    {
     "data": {
      "image/png": "[encoded data removed]",
      "text/plain": [
       "<Figure size 640x480 with 2 Axes>"
      ]
     },
     "metadata": {},
     "output_type": "display_data"
    }
   ],
   "source": [
    "cm = confusion_matrix(y_test, y_pred4)\n",
    "sns.heatmap(cm, annot=True, fmt=\"d\", cmap=\"Blues\", xticklabels=[\"Legit\", \"Fraud\"], yticklabels=[\"Legit\", \"Fraud\"])\n",
    "plt.title(\"Confusion Matrix - Embeddings + XGBoost\")\n",
    "plt.xlabel(\"Predicted\")\n",
    "plt.ylabel(\"True\")\n",
    "plt.show()\n"
   ]
  },
  {
   "cell_type": "code",
   "execution_count": 38,
   "id": "20e6dfd7",
   "metadata": {},
   "outputs": [],
   "source": [
    "import joblib"
   ]
  },
  {
   "cell_type": "code",
   "execution_count": 39,
   "id": "35d03260",
   "metadata": {},
   "outputs": [
    {
     "data": {
      "text/plain": [
       "['../models/embedding_xgboost_job_fraud.joblib']"
      ]
     },
     "execution_count": 39,
     "metadata": {},
     "output_type": "execute_result"
    }
   ],
   "source": [
    "joblib.dump(model1, '../models/embedding_random_forest_job_fraud.joblib')\n",
    "joblib.dump(model2, '../models/embedding_gradient_boosting_job_fraud.joblib')\n",
    "joblib.dump(model3, '../models/embedding_mlp_job_fraud.joblib')\n",
    "joblib.dump(model4, '../models/embedding_xgboost_job_fraud.joblib')"
   ]
  },
  {
   "cell_type": "code",
   "execution_count": null,
   "id": "98823df7",
   "metadata": {},
   "outputs": [],
   "source": []
  }
 ],
 "metadata": {
  "kernelspec": {
   "display_name": "Python 3",
   "language": "python",
   "name": "python3"
  },
  "language_info": {
   "codemirror_mode": {
    "name": "ipython",
    "version": 3
   },
   "file_extension": ".py",
   "mimetype": "text/x-python",
   "name": "python",
   "nbconvert_exporter": "python",
   "pygments_lexer": "ipython3",
   "version": "3.10.16"
  }
 },
 "nbformat": 4,
 "nbformat_minor": 5
}
